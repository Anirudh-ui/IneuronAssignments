{
 "cells": [
  {
   "cell_type": "markdown",
   "id": "47047758",
   "metadata": {},
   "source": [
    "# Pogramming_Assignment_5"
   ]
  },
  {
   "cell_type": "code",
   "execution_count": 5,
   "id": "6d453276",
   "metadata": {},
   "outputs": [
    {
     "name": "stdout",
     "output_type": "stream",
     "text": [
      "Enter number of input for lcm5\n",
      "Enter the number2\n",
      "Enter the number4\n",
      "Enter the number6\n",
      "Enter the number8\n",
      "Enter the number10\n",
      "The lcm of given list of number's is  120\n"
     ]
    }
   ],
   "source": [
    "#1.\tWrite a Python Program to Find LCM?\n",
    "import math\n",
    "#will work for an int array of any length\n",
    "def LCM(a):\n",
    "  lcm = a[0]\n",
    "  for i in range(1,len(a)):\n",
    "    lcm = lcm*a[i]//math.gcd(lcm, a[i])\n",
    "  return lcm\n",
    "\"\"\"Driver code\"\"\"\n",
    "n = int(input(\"Enter number of input for lcm\"))\n",
    "l = []\n",
    "for i in range(n):\n",
    "    number= int(input(\"Enter the number\"))\n",
    "    l.append(number)\n",
    "output = LCM(l)\n",
    "print(\"The lcm of given list of number's is \",output)"
   ]
  },
  {
   "cell_type": "code",
   "execution_count": 14,
   "id": "2b3b2767",
   "metadata": {},
   "outputs": [
    {
     "name": "stdout",
     "output_type": "stream",
     "text": [
      "Enter the number of inputs3\n",
      "Enter the values15\n",
      "Enter the values81\n",
      "Enter the values78\n",
      "3\n"
     ]
    }
   ],
   "source": [
    "#2.\tWrite a Python Program to Find HCF?\n",
    "from math import gcd\n",
    "def solve(nums):\n",
    "    if len(nums) == 1:\n",
    "        return nums[0]\n",
    "\n",
    "    div = gcd(nums[0], nums[1])\n",
    "\n",
    "    if len(nums) == 2:\n",
    "        return div\n",
    "\n",
    "    for i in range(1, len(nums) - 1):\n",
    "        div = gcd(div, nums[i + 1])\n",
    "        if div == 1:\n",
    "            return div\n",
    "\n",
    "        return div\n",
    "\n",
    "n = int(input(\"Enter the number of inputs\"))\n",
    "nums = []\n",
    "for i in range(n):\n",
    "    number = int(input(\"Enter the values\"))\n",
    "    nums.append(number)\n",
    "print(solve(nums))"
   ]
  },
  {
   "cell_type": "code",
   "execution_count": 1,
   "id": "9508f2d9",
   "metadata": {},
   "outputs": [
    {
     "name": "stdout",
     "output_type": "stream",
     "text": [
      "Enter the number2\n",
      "the binary value of 2  is  0b10\n",
      "the hexadecimal value of 2  is  0x2\n",
      "The octal value of 2  is  0o2\n"
     ]
    }
   ],
   "source": [
    "#3.\tWrite a Python Program to Convert Decimal to Binary, Octal and Hexadecimal\n",
    "    # for integer numbers \n",
    "number = int(input(\"Enter the number\"))\n",
    "print(\"the binary value of {}\".format(number),\" is \",bin(int(number)))\n",
    "print(\"the hexadecimal value of {}\".format(number),\" is \",hex(int(number)))\n",
    "print(\"The octal value of {}\".format(number),\" is \",oct(int(number)))"
   ]
  },
  {
   "cell_type": "code",
   "execution_count": null,
   "id": "acd29577",
   "metadata": {},
   "outputs": [
    {
     "name": "stdout",
     "output_type": "stream",
     "text": [
      "Enter your floating point value :11.234\n"
     ]
    }
   ],
   "source": [
    "#3. for converting floating values to dinary formate\n",
    "def float_bin(number, places = 3):  \n",
    "    whole, dec = str(number).split(\".\")\n",
    "    whole = int(whole) \n",
    "    dec = int (dec) \n",
    "    res = bin(whole)\n",
    "    for x in range(places): \n",
    "        whole, dec = str((decimal_converter(dec)) * 2).split(\".\")\n",
    "        dec = int(dec) \n",
    "        res += whole \n",
    "  \n",
    "    return res \n",
    "def decimal_converter(num):\n",
    "    while num > 1: \n",
    "        num /= 10\n",
    "    return num \n",
    "n = input(\"Enter your floating point value :\") \n",
    "p = int(input(\"Enter the number of decimal places of the result :\")) \n",
    "binary_number = float_bin(n,places = p)"
   ]
  },
  {
   "cell_type": "code",
   "execution_count": null,
   "id": "006e0f82",
   "metadata": {},
   "outputs": [],
   "source": [
    "#4.\tWrite a Python Program To Find ASCII value of a character?\n",
    "character = input(\"Enter the charactor to find ASCII value\")\n",
    "print(\"The ASCII value of '\" + character + \"' is\", ord(c))"
   ]
  },
  {
   "cell_type": "code",
   "execution_count": 16,
   "id": "7b932741",
   "metadata": {},
   "outputs": [
    {
     "name": "stdout",
     "output_type": "stream",
     "text": [
      "Enter the following options\n",
      "                 1.add\n",
      "                 2.substraction\n",
      "                 3.multiplication\n",
      "                 4.division1\n",
      "Enter first number12\n",
      "Enter second number13\n",
      "25\n"
     ]
    }
   ],
   "source": [
    "#5. make a calculater with four basic operations?\n",
    "def add(a,b):\n",
    "    return a+b\n",
    "def multiplication(l):\n",
    "    return a*b\n",
    "def substration(a,b):\n",
    "    return a-b\n",
    "def division(a,b):\n",
    "    return a/b\n",
    "#Driver Code\n",
    "n = int(input(\"\"\"Enter the following options\n",
    "                 1.add\n",
    "                 2.substraction\n",
    "                 3.multiplication\n",
    "                 4.division\"\"\"))\n",
    "if n == 1:\n",
    "    a = int(input(\"Enter first number\"))\n",
    "    b = int(input(\"Enter second number\"))\n",
    "    output = print(add(a,b))\n",
    "elif n==2:\n",
    "    a = int(input(\"Enter first number\"))\n",
    "    b = int(input(\"Enter second number\"))\n",
    "    output = print(sunstraction(a,b))\n",
    "elif n==3:\n",
    "    a = int(input(\"Enter first number\"))\n",
    "    b = int(input(\"Enter second number\"))\n",
    "    output = print(multiplication(a,b))\n",
    "else:\n",
    "    a = int(input(\"Enter first number\"))\n",
    "    b = int(input(\"Enter second number\"))\n",
    "    output = print(division(a,b))"
   ]
  },
  {
   "cell_type": "code",
   "execution_count": null,
   "id": "b28b69e1",
   "metadata": {},
   "outputs": [],
   "source": []
  },
  {
   "cell_type": "code",
   "execution_count": null,
   "id": "3eefaf69",
   "metadata": {},
   "outputs": [],
   "source": []
  },
  {
   "cell_type": "code",
   "execution_count": null,
   "id": "4cf62aaa",
   "metadata": {},
   "outputs": [],
   "source": []
  }
 ],
 "metadata": {
  "kernelspec": {
   "display_name": "Python 3 (ipykernel)",
   "language": "python",
   "name": "python3"
  },
  "language_info": {
   "codemirror_mode": {
    "name": "ipython",
    "version": 3
   },
   "file_extension": ".py",
   "mimetype": "text/x-python",
   "name": "python",
   "nbconvert_exporter": "python",
   "pygments_lexer": "ipython3",
   "version": "3.9.7"
  }
 },
 "nbformat": 4,
 "nbformat_minor": 5
}
