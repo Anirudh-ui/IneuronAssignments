{
 "cells": [
  {
   "cell_type": "markdown",
   "id": "82f4a860",
   "metadata": {},
   "source": [
    "# Assigment_2-ineuron.ai"
   ]
  },
  {
   "cell_type": "code",
   "execution_count": null,
   "id": "d1091766",
   "metadata": {},
   "outputs": [],
   "source": [
    "\"\"\"1..What are the two values of the Boolean data type? How do you write them?\n",
    "Ans) The two types of boolean data types in pyhton are True and False\"\"\"\n",
    "a = True\n",
    "b = False"
   ]
  },
  {
   "cell_type": "code",
   "execution_count": 1,
   "id": "5b658e47",
   "metadata": {},
   "outputs": [
    {
     "name": "stdout",
     "output_type": "stream",
     "text": [
      "False\n",
      "True\n",
      "False\n"
     ]
    }
   ],
   "source": [
    "\"\"\"2. What are the three different types of Boolean operators?\n",
    "Ans) the three different types of boolean operators are and or and not \n",
    "and logic: if any one of the value's is False then the resultant and operation is False\n",
    "or logic : if Both the value's are False then only the value is False\n",
    "not logic : it gives the opposite of the boolean value\n",
    "\n",
    " for example:\"\"\"\n",
    "a = True\n",
    "b=False\n",
    "\n",
    "print(a and b)\n",
    "print(a or b)\n",
    "print(not a)"
   ]
  },
  {
   "cell_type": "code",
   "execution_count": 3,
   "id": "08f64efe",
   "metadata": {},
   "outputs": [
    {
     "name": "stdout",
     "output_type": "stream",
     "text": [
      ":::and logic:::\n",
      "True and True->True\n",
      "True and False->False\n",
      "False and True->False\n",
      "False and False->False\n",
      ":::or logic:::\n",
      "True or True->True\n",
      "True or False->True\n",
      "False or True->True\n",
      "False or FalseFalse\n",
      ":::not logic:::\n",
      "not True->False\n",
      "not FalseTrue\n"
     ]
    }
   ],
   "source": [
    "\"\"\"3. Make a list of each Boolean operator's truth tables (i.e. every possible combination of Boolean values for the operator \n",
    "and what it evaluate ).\n",
    "Ans) and logic:\n",
    "    True and True -> True\n",
    "    True and False -> False\n",
    "    False and True -> False\n",
    "    False and False -> False\n",
    "    \n",
    "    or logic:\n",
    "    True or True ->True\n",
    "    True or False ->False\n",
    "    False or True->True\n",
    "    False or False->False\n",
    "    \n",
    "    not logic:\n",
    "    not True - > False\n",
    "    not False - >True\"\"\"\n",
    "print(\":::and logic:::\")\n",
    "print(\"True and True->\"+str(True and True))\n",
    "print(\"True and False->\"+str(True and False))\n",
    "print(\"False and True->\"+str(False and True))\n",
    "print(\"False and False->\"+str(False and False))\n",
    "print(\":::or logic:::\")\n",
    "print(\"True or True->\"+str(True or True))\n",
    "print(\"True or False->\"+str(True or False))\n",
    "print(\"False or True->\"+str(False or True))\n",
    "print(\"False or False\"+str(False or False))\n",
    "print(\":::not logic:::\")\n",
    "print(\"not True->\"+str(not True))\n",
    "print(\"not False\"+str(not False))"
   ]
  },
  {
   "cell_type": "code",
   "execution_count": 4,
   "id": "bc4d25ca",
   "metadata": {},
   "outputs": [
    {
     "name": "stdout",
     "output_type": "stream",
     "text": [
      "False\n",
      "False\n",
      "True\n",
      "False\n",
      "False\n",
      "True\n"
     ]
    }
   ],
   "source": [
    "\"\"\"\n",
    "4. What are the values of the following expressions?\n",
    "Ans)(5 > 4) and (3 == 5)->False\n",
    "not (5 > 4)->False\n",
    "(5 > 4) or (3 == 5)->True\n",
    "not ((5 > 4) or (3 == 5))->False\n",
    "(True and True) and (True == False)->False\n",
    "(not False) or (not True)->True\n",
    "\n",
    "\"\"\"\n",
    "\n",
    "print((5 > 4) and (3 == 5))\n",
    "print(not (5 > 4))\n",
    "print((5 > 4) or (3 == 5))\n",
    "print(not ((5 > 4) or (3 == 5)))\n",
    "print((True and True) and (True == False))\n",
    "print((not False) or (not True))\n"
   ]
  },
  {
   "cell_type": "code",
   "execution_count": 5,
   "id": "30d97970",
   "metadata": {},
   "outputs": [
    {
     "name": "stdout",
     "output_type": "stream",
     "text": [
      "::For Example\n",
      "True\n",
      "False\n",
      "False\n",
      "True\n",
      "False\n",
      "True\n"
     ]
    }
   ],
   "source": [
    "\"\"\"\n",
    "5.. What are the six comparison operators?\n",
    "Ans)A comparison operator compares two values and returns a boolean value, either True or False\n",
    "six comparison operators are >,<,==,<=,>=,!=\n",
    "\n",
    "\"\"\"\n",
    "print(\"::For Example\")\n",
    "print(5>4)\n",
    "print(5==4)\n",
    "print(5<4)\n",
    "print(5>=4)\n",
    "print(5<=4)\n",
    "print(5!=4)"
   ]
  },
  {
   "cell_type": "code",
   "execution_count": 6,
   "id": "eff81224",
   "metadata": {},
   "outputs": [
    {
     "name": "stdout",
     "output_type": "stream",
     "text": [
      "10\n",
      "False\n"
     ]
    }
   ],
   "source": [
    "\"\"\"\n",
    "6.How do you tell the difference between the equal to and assignment operators?\n",
    "Describe a condition and when you would use one.\n",
    "Ans)The “=” is an assignment operator is used to assign the value on the right to the variable on the left.\n",
    "The ‘==’ operator checks whether the two given operands are equal or not. If so, it returns true. Otherwise it returns false.\n",
    "\"\"\"\n",
    "a=10\n",
    "b = 5==4\n",
    "print(a)\n",
    "print(b)"
   ]
  },
  {
   "cell_type": "code",
   "execution_count": 11,
   "id": "a85b2be5",
   "metadata": {},
   "outputs": [
    {
     "name": "stdout",
     "output_type": "stream",
     "text": [
      "ham\n",
      "spam\n",
      "spam\n",
      ":::or::::\n",
      "ham\n",
      "spam\n",
      "spam\n"
     ]
    }
   ],
   "source": [
    "\"\"\"\n",
    "7. Identify the three blocks in this code:\n",
    "spam = 0\n",
    "if spam == 10:<----Block 1\n",
    "print('eggs')\n",
    "if spam > 5:<------Block 2\n",
    "print('bacon')\n",
    "else:<-------------Block 3\n",
    "print('ham')\n",
    "print('spam')\n",
    "print('spam')\n",
    "\n",
    "\"\"\"\n",
    "\n",
    "spam = 0\n",
    "if spam == 10:\n",
    " print('eggs')\n",
    "if spam > 5:\n",
    " print('bacon')\n",
    "else:\n",
    " print('ham')\n",
    "print('spam')\n",
    "print('spam')\n",
    "print(\":::or::::\")\n",
    "spam = 0\n",
    "if spam == 10:\n",
    " print('eggs')\n",
    "if spam > 5:\n",
    " print('bacon')\n",
    "else:\n",
    " print('ham')\n",
    " print('spam')\n",
    " print('spam')\n"
   ]
  },
  {
   "cell_type": "code",
   "execution_count": 12,
   "id": "1e9ffbcc",
   "metadata": {},
   "outputs": [
    {
     "name": "stdout",
     "output_type": "stream",
     "text": [
      "Enter any value of spam3\n",
      "Greetings!\n"
     ]
    }
   ],
   "source": [
    "\"\"\"\n",
    "8. Write code that prints Hello if 1 is stored in spam, prints Howdy if 2 is stored in spam, and prints Greetings! \n",
    "if anything else is stored in spam.\n",
    "Ans)\n",
    "\"\"\"\n",
    "\n",
    "#print(\"Enter the value of spam \")\n",
    "a = input(\"Enter any value of spam\")\n",
    "spam=int(a)\n",
    "if spam==1:\n",
    "    print(\"Hello\")\n",
    "elif spam==2:\n",
    "    print(\"Howdy\")\n",
    "else:\n",
    "    print(\"Greetings!\")"
   ]
  },
  {
   "cell_type": "code",
   "execution_count": null,
   "id": "2bda99f4",
   "metadata": {},
   "outputs": [],
   "source": [
    "\"\"\"9.If your programme is stuck in an endless loop, what keys you’ll press?\n",
    "Ans)Ctrl+C\"\"\"\n",
    "\n"
   ]
  },
  {
   "cell_type": "code",
   "execution_count": 15,
   "id": "bf334e4d",
   "metadata": {},
   "outputs": [
    {
     "name": "stdout",
     "output_type": "stream",
     "text": [
      ":::Example for break statement:::\n",
      "0\n",
      "1\n",
      "2\n",
      ":::example for continue:::\n",
      "0\n",
      "1\n",
      "2\n",
      "4\n"
     ]
    }
   ],
   "source": [
    "\"\"\"\n",
    "10. How can you tell the difference between break and continue?\n",
    "break :\n",
    "-> break statement once encountered in the program makes the loop terminate and takes the control outside the loop\n",
    "-> it is usually used in switch statements \n",
    "\n",
    "->continue statement once encountered in the program makes the loop skip the current iteration of the loop and takes the control \n",
    "to the next iteration\n",
    "->continue statements cannot be used in the switch statements\n",
    "\"\"\"\n",
    "print(\":::Example for break statement:::\")\n",
    "for number in range(0,5):\n",
    "    if(number==3):\n",
    "        break\n",
    "    else:\n",
    "        print(number)\n",
    "        #print(\"Control came outside the loop\")\n",
    "\n",
    "print(\":::example for continue:::\")\n",
    "for number in range(0,5):\n",
    "    if(number==3):\n",
    "        continue\n",
    "    else:\n",
    "        print(number\n",
    "             )\n",
    "        #print(\"control skips to next iteration\")"
   ]
  },
  {
   "cell_type": "code",
   "execution_count": 20,
   "id": "c0fa1de2",
   "metadata": {},
   "outputs": [
    {
     "name": "stdout",
     "output_type": "stream",
     "text": [
      "from range(10)\n",
      "0\n",
      "1\n",
      "2\n",
      "3\n",
      "4\n",
      "5\n",
      "6\n",
      "7\n",
      "8\n",
      "9\n",
      "from range(0,10)\n",
      "0\n",
      "1\n",
      "2\n",
      "3\n",
      "4\n",
      "5\n",
      "6\n",
      "7\n",
      "8\n",
      "9\n",
      "from range(0,10,1)\n",
      "0\n",
      "1\n",
      "2\n",
      "3\n",
      "4\n",
      "5\n",
      "6\n",
      "7\n",
      "8\n",
      "9\n"
     ]
    }
   ],
   "source": [
    "\"\"\"\n",
    "11. In a for loop, what is the difference between range(10), range(0, 10), and range(0, 10, 1)?\n",
    "Ans) All the three for loops give us the same answer there is no difference except for range(10) the default value of lower bound\n",
    "and step size is 1 and for(0,10) the default step size is 1 and for(0,10,1) all three are mentioned\n",
    "\"\"\"\n",
    "print(\"from range(10)\")\n",
    "for numbers in range(10):\n",
    "    print(numbers)\n",
    "print(\"from range(0,10)\")\n",
    "for numbers in range(0,10):\n",
    "    print(numbers)\n",
    "print(\"from range(0,10,1)\")\n",
    "for numbers in range(0,10,1):\n",
    "    print(numbers)"
   ]
  },
  {
   "cell_type": "code",
   "execution_count": 23,
   "id": "dad76d02",
   "metadata": {},
   "outputs": [
    {
     "name": "stdout",
     "output_type": "stream",
     "text": [
      ":::for loop example:::\n",
      "1\n",
      "2\n",
      "3\n",
      "4\n",
      "5\n",
      "6\n",
      "7\n",
      "8\n",
      "9\n",
      "10\n",
      ":::while loop example:::\n",
      "1\n",
      "2\n",
      "3\n",
      "4\n",
      "5\n",
      "6\n",
      "7\n",
      "8\n",
      "9\n",
      "10\n"
     ]
    }
   ],
   "source": [
    "\"\"\"\n",
    "12. Write a short program that prints the numbers 1 to 10 using a for loop.\n",
    "Then write an equivalent program that prints the numbers 1 to 10 using a while loop.\n",
    "Ans)\n",
    "\"\"\"\n",
    "print(\":::for loop example:::\")\n",
    "\n",
    "for number in range(1,11):\n",
    "    print(number)\n",
    "\n",
    "    \n",
    "print(\":::while loop example:::\")\n",
    "number =1\n",
    "while number<11:\n",
    "      print(number)\n",
    "      number=number+1\n",
    "      "
   ]
  },
  {
   "cell_type": "code",
   "execution_count": null,
   "id": "6dd735df",
   "metadata": {},
   "outputs": [],
   "source": [
    "\"\"\"\n",
    "13. If you had a function named bacon() inside a module named spam, how would you call it after importing spam?\n",
    "Ans)spam.bacon()\n",
    "\"\"\""
   ]
  }
 ],
 "metadata": {
  "kernelspec": {
   "display_name": "Python 3 (ipykernel)",
   "language": "python",
   "name": "python3"
  },
  "language_info": {
   "codemirror_mode": {
    "name": "ipython",
    "version": 3
   },
   "file_extension": ".py",
   "mimetype": "text/x-python",
   "name": "python",
   "nbconvert_exporter": "python",
   "pygments_lexer": "ipython3",
   "version": "3.9.7"
  }
 },
 "nbformat": 4,
 "nbformat_minor": 5
}
