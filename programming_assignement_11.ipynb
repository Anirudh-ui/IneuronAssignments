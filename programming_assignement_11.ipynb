{
 "cells": [
  {
   "cell_type": "code",
   "execution_count": 6,
   "id": "9c1bf12e",
   "metadata": {},
   "outputs": [
    {
     "name": "stdout",
     "output_type": "stream",
     "text": [
      "Enter the number of words5\n",
      "Enter the numbername\n",
      "Enter the numberrole\n",
      "Enter the numberpackage\n",
      "Enter the numbercompany\n",
      "Enter the numberactivity\n",
      "Enter the length of the word4\n",
      "['name', 'role']\n"
     ]
    }
   ],
   "source": [
    "#1.Write a Python program to find words which are greater than given length k?\n",
    "def greater_than_k(l,k):\n",
    "    lst_of_words=[]\n",
    "    for i in l:\n",
    "        if(len(i)==k):\n",
    "            lst_of_words.append(i)\n",
    "    return lst_of_words\n",
    "\"\"\"Driver Code\"\"\"\n",
    "n = int(input(\"Enter the number of words\"))\n",
    "lst_word=[]\n",
    "for i in range(n):\n",
    "    i = input(\"Enter the number\")\n",
    "    lst_word.append(i)\n",
    "k = int(input(\"Enter the length of the word\"))\n",
    "if len(greater_than_k(lst_word,k))!=0:\n",
    "    print(greater_than_k(lst_word,k))\n",
    "else:\n",
    "    print(\"There are no words in list with length \",k)"
   ]
  },
  {
   "cell_type": "code",
   "execution_count": 8,
   "id": "6ba825c3",
   "metadata": {},
   "outputs": [
    {
     "name": "stdout",
     "output_type": "stream",
     "text": [
      "Enter the input stringanirudh2\n",
      "enter the position in which you want to remove the charactor2\n",
      "anrudh2\n"
     ]
    }
   ],
   "source": [
    "#2.Write a Python program for removing i-th character from a string?\n",
    "string_input = input(\"Enter the input string\")\n",
    "position = int(input('enter the position in which you want to remove the charactor'))\n",
    "a = string_input[:position]\n",
    "b = string_input[position+1:]\n",
    "output = a+b\n",
    "print(output)"
   ]
  },
  {
   "cell_type": "code",
   "execution_count": 13,
   "id": "7fa6173c",
   "metadata": {},
   "outputs": [
    {
     "name": "stdout",
     "output_type": "stream",
     "text": [
      "Enter the values of the stringanirudh\n",
      "original string :  anirudh\n",
      "split string :  ['anirudh']\n",
      "joined string :  anirudh\n"
     ]
    }
   ],
   "source": [
    "#3.Write a Python program to split and join a string?\n",
    "string_inout = input(\"Enter the values of the string\")\n",
    "str1 = string_inout.split(\" \")\n",
    "str2 = str1[0].join(str1)\n",
    "print(\"original string : \",string_inout)\n",
    "print(\"split string : \",str1)\n",
    "print(\"joined string : \",str2)"
   ]
  },
  {
   "cell_type": "code",
   "execution_count": 21,
   "id": "e2128f1c",
   "metadata": {},
   "outputs": [
    {
     "name": "stdout",
     "output_type": "stream",
     "text": [
      "Enter the string101010000\n",
      "101010000  is a binary string\n"
     ]
    }
   ],
   "source": [
    "#4.Write a Python to check if a given string is binary string or not?\n",
    "def check_binary_string(s):\n",
    "    p = set(s)\n",
    "    set_bin = {'0','1'}\n",
    "    if(p==set_bin or p=={'0'} or p=={'1'}):\n",
    "        return True\n",
    "    else:\n",
    "        return False\n",
    "n = input(\"Enter the string\")\n",
    "if check_binary_string(n)==True:\n",
    "    print(n,\" is a binary string\")\n",
    "else:\n",
    "    print(n,\" is not a binary String\")\n",
    "    "
   ]
  },
  {
   "cell_type": "code",
   "execution_count": 22,
   "id": "5647b2d3",
   "metadata": {},
   "outputs": [
    {
     "name": "stdout",
     "output_type": "stream",
     "text": [
      "Enter first stringapple mango banana\n",
      "Enter second Stringapple grapes banana\n",
      " mango grapes\n"
     ]
    }
   ],
   "source": [
    "#5.Write a Python program to find uncommon words from two Strings?\n",
    "def uncommon(a,b):\n",
    "    list_a = a.split()\n",
    "    list_b = b.split()\n",
    "    uc = ''\n",
    "    for i in list_a:\n",
    "        if i not in list_b:\n",
    "            uc = uc+\" \"+i\n",
    "    for j in list_b:\n",
    "        if j not in list_a:\n",
    "            uc = uc+\" \"+j\n",
    "    return uc\n",
    "\n",
    "# Driver code\n",
    "a = input(\"Enter first string\")\n",
    "b = input(\"Enter second String\")\n",
    "print(uncommon(a,b))\n",
    "\n",
    "    "
   ]
  },
  {
   "cell_type": "code",
   "execution_count": 43,
   "id": "2c9ff5cf",
   "metadata": {},
   "outputs": [
    {
     "name": "stdout",
     "output_type": "stream",
     "text": [
      "enter the stringsppededd\n",
      "The duplicate charators are :\n",
      "p\n",
      "e\n",
      "d\n"
     ]
    }
   ],
   "source": [
    "#6.Write a Python to find all duplicate characters in string?\n",
    "def find_duplicate(s):\n",
    "    dict_count = {}\n",
    "    count = 0\n",
    "    for i in s:\n",
    "        for j in range(s.index(i),len(s)):\n",
    "            if(i==s[j]):\n",
    "                count=count+1\n",
    "        dict_count[i]=count\n",
    "        count = 0\n",
    "    return  dict_count\n",
    "s= input(\"enter the string\")\n",
    "n = find_duplicate(s)\n",
    "print(\"The duplicate charators are :\")\n",
    "for i in n:\n",
    "    if(n[i]>=2):\n",
    "        print(i)"
   ]
  },
  {
   "cell_type": "code",
   "execution_count": 46,
   "id": "67a5fe85",
   "metadata": {},
   "outputs": [
    {
     "name": "stdout",
     "output_type": "stream",
     "text": [
      "entre the stringaniryd\n",
      "no\n"
     ]
    }
   ],
   "source": [
    "#7.Write a Python Program to check if a string contains any special character?\n",
    "n=input(\"entre the string\")\n",
    "n.split()\n",
    "c=0\n",
    "s='[@_!#$%^&*()<>?/\\|}{~:]' # special character set\n",
    "for i in range(len(n)):\n",
    "    if n[i] in s:\n",
    "        c+=1\n",
    "if c:\n",
    "    print(\"yes there are special characters\")\n",
    "else:\n",
    "    print(\"no\")\n"
   ]
  },
  {
   "cell_type": "code",
   "execution_count": null,
   "id": "8e0e4412",
   "metadata": {},
   "outputs": [],
   "source": []
  }
 ],
 "metadata": {
  "kernelspec": {
   "display_name": "Python 3 (ipykernel)",
   "language": "python",
   "name": "python3"
  },
  "language_info": {
   "codemirror_mode": {
    "name": "ipython",
    "version": 3
   },
   "file_extension": ".py",
   "mimetype": "text/x-python",
   "name": "python",
   "nbconvert_exporter": "python",
   "pygments_lexer": "ipython3",
   "version": "3.9.7"
  }
 },
 "nbformat": 4,
 "nbformat_minor": 5
}
