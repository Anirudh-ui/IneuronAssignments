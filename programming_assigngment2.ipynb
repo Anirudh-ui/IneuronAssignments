{
 "cells": [
  {
   "cell_type": "markdown",
   "id": "35b5a0ba",
   "metadata": {},
   "source": [
    "# Programming_assignment_2"
   ]
  },
  {
   "cell_type": "code",
   "execution_count": 3,
   "id": "e2741ae7",
   "metadata": {},
   "outputs": [
    {
     "name": "stdout",
     "output_type": "stream",
     "text": [
      "Enter the number of kilometers: 4\n",
      "4.00 kilometers are equal to 2.49 miles\n"
     ]
    }
   ],
   "source": [
    "#1.\tWrite a Python program to convert kilometers to miles?\n",
    "\n",
    "class convert:\n",
    "    def __init__(self,kilometer):\n",
    "        self.kilometers = kilometer\n",
    "    def convert_to_miles(self):\n",
    "        conversion_factor = 0.621371\n",
    "        miles = self.kilometers * conversion_factor\n",
    "        return miles\n",
    "\"\"\"Driver Code\"\"\"\n",
    "number_of_kilometers = float(input(\"Enter the number of kilometers: \"))\n",
    "convert1 = convert(number_of_kilometers)\n",
    "number_of_miles = convert1.convert_to_miles()\n",
    "print(\"%0.2f kilometers are equal to %0.2f miles\"%(number_of_kilometers,number_of_miles))\n",
    "\n",
    "\n",
    "\n"
   ]
  },
  {
   "cell_type": "code",
   "execution_count": 13,
   "id": "6f040601",
   "metadata": {},
   "outputs": [
    {
     "name": "stdout",
     "output_type": "stream",
     "text": [
      "Enter celcius98\n",
      "98.0 celcius is 208.4 fahrenheit\n"
     ]
    }
   ],
   "source": [
    "#2.\tWrite a Python program to convert Celsius to Fahrenheit?\n",
    "class convert:\n",
    "    def __init__(self,celsius):\n",
    "        self.celsius = celsius\n",
    "    def convert_to_fahrenheit(self):\n",
    "        fahrenheit = (self.celsius * 1.8) + 32\n",
    "        return fahrenheit\n",
    "\"\"\"Driver code\"\"\"\n",
    "celcius = float(input(\"Enter celcius\"))\n",
    "convert1 = convert(celcius)\n",
    "fahrenheit = convert1.convert_to_fahrenheit()\n",
    "\n",
    "print(\"%0.1f celcius is %0.1f fahrenheit\"%(celcius,fahrenheit))"
   ]
  },
  {
   "cell_type": "code",
   "execution_count": 12,
   "id": "b6daeebb",
   "metadata": {},
   "outputs": [
    {
     "name": "stdout",
     "output_type": "stream",
     "text": [
      "do you want to display \n",
      "       montly calendar or\n",
      "       do you want\n",
      "       to display yearly calendar?\n",
      "       a . montly\n",
      "       b . yearly\n",
      "enter your optionb\n",
      "enter the year2020\n",
      "                                  2020\n",
      "\n",
      "      January                   February                   March\n",
      "Mo Tu We Th Fr Sa Su      Mo Tu We Th Fr Sa Su      Mo Tu We Th Fr Sa Su\n",
      "       1  2  3  4  5                      1  2                         1\n",
      " 6  7  8  9 10 11 12       3  4  5  6  7  8  9       2  3  4  5  6  7  8\n",
      "13 14 15 16 17 18 19      10 11 12 13 14 15 16       9 10 11 12 13 14 15\n",
      "20 21 22 23 24 25 26      17 18 19 20 21 22 23      16 17 18 19 20 21 22\n",
      "27 28 29 30 31            24 25 26 27 28 29         23 24 25 26 27 28 29\n",
      "                                                    30 31\n",
      "\n",
      "       April                      May                       June\n",
      "Mo Tu We Th Fr Sa Su      Mo Tu We Th Fr Sa Su      Mo Tu We Th Fr Sa Su\n",
      "       1  2  3  4  5                   1  2  3       1  2  3  4  5  6  7\n",
      " 6  7  8  9 10 11 12       4  5  6  7  8  9 10       8  9 10 11 12 13 14\n",
      "13 14 15 16 17 18 19      11 12 13 14 15 16 17      15 16 17 18 19 20 21\n",
      "20 21 22 23 24 25 26      18 19 20 21 22 23 24      22 23 24 25 26 27 28\n",
      "27 28 29 30               25 26 27 28 29 30 31      29 30\n",
      "\n",
      "        July                     August                  September\n",
      "Mo Tu We Th Fr Sa Su      Mo Tu We Th Fr Sa Su      Mo Tu We Th Fr Sa Su\n",
      "       1  2  3  4  5                      1  2          1  2  3  4  5  6\n",
      " 6  7  8  9 10 11 12       3  4  5  6  7  8  9       7  8  9 10 11 12 13\n",
      "13 14 15 16 17 18 19      10 11 12 13 14 15 16      14 15 16 17 18 19 20\n",
      "20 21 22 23 24 25 26      17 18 19 20 21 22 23      21 22 23 24 25 26 27\n",
      "27 28 29 30 31            24 25 26 27 28 29 30      28 29 30\n",
      "                          31\n",
      "\n",
      "      October                   November                  December\n",
      "Mo Tu We Th Fr Sa Su      Mo Tu We Th Fr Sa Su      Mo Tu We Th Fr Sa Su\n",
      "          1  2  3  4                         1          1  2  3  4  5  6\n",
      " 5  6  7  8  9 10 11       2  3  4  5  6  7  8       7  8  9 10 11 12 13\n",
      "12 13 14 15 16 17 18       9 10 11 12 13 14 15      14 15 16 17 18 19 20\n",
      "19 20 21 22 23 24 25      16 17 18 19 20 21 22      21 22 23 24 25 26 27\n",
      "26 27 28 29 30 31         23 24 25 26 27 28 29      28 29 30 31\n",
      "                          30\n",
      "\n"
     ]
    }
   ],
   "source": [
    "#3.\tWrite a Python program to display calendar?\n",
    "import calendar\n",
    "class CalendarDisplay:\n",
    "    def __init__(self,*abc):\n",
    "        if len(abc)==2:\n",
    "            self.ans = self.display_by(abc)\n",
    "        elif len(abc)==1:\n",
    "            self.ans = self.display_full_calendar(abc)\n",
    "    def display_by(self,args):\n",
    "        print(calendar.month(args[0], args[1]))\n",
    "    def display_full_calendar(self,args):\n",
    "        print(calendar.calendar(args[0]))\n",
    "\"\"\"Driver Code\"\"\"\n",
    "print(\"\"\"do you want to display \n",
    "       montly calendar or\n",
    "       do you want\n",
    "       to display yearly calendar?\n",
    "       a . montly\n",
    "       b . yearly\"\"\")\n",
    "entry = str(input(\"enter your option\"))\n",
    "if entry==\"a\":\n",
    "    month = int(input(\"enter the month number :\"))\n",
    "    year = int(input(\"enter the year  :\"))\n",
    "    display1 = CalendarDisplay(year,month)\n",
    "    display1.ans\n",
    "elif entry==\"b\":\n",
    "    year = int(input(\"enter the year\"))\n",
    "    display2 = CalendarDisplay(year)\n",
    "    display2.ans"
   ]
  },
  {
   "cell_type": "code",
   "execution_count": 3,
   "id": "9c69370b",
   "metadata": {},
   "outputs": [
    {
     "name": "stdout",
     "output_type": "stream",
     "text": [
      "Enter the constant values of the quadration equation a,b,c to find the roots\n",
      "Enter the coefficient of x27\n",
      "Enter the coefficient of x5\n",
      "Enter the constant value2\n",
      "The roots of quadratic equation are -0.35714285714285715i5.5677643628300215 and -0.35714285714285715- i5.5677643628300215\n"
     ]
    }
   ],
   "source": [
    "#4.\tWrite a Python program to solve quadratic equation?\n",
    "\n",
    "import math  \n",
    "class calculate_roots:\n",
    "    def __init__(self,a,b,c):\n",
    "        self.a = a\n",
    "        self.b = b\n",
    "        self.c = c\n",
    "    def calculate(self):\n",
    "         \n",
    "  \n",
    "            dis_form = self.b * self.b - 4 * self.a * self.c  \n",
    "            sqrt_val = math.sqrt(abs(dis_form))  \n",
    "\n",
    "\n",
    "            if dis_form > 0:  \n",
    "                a1 = (-self.b + sqrt_val) / (2 * self.a)\n",
    "                a2 = (-self.b - sqrt_val) / (2 * self.a)\n",
    "                  \n",
    "                return a1,a2\n",
    "            elif dis_form == 0:  \n",
    "                    a1 = (-self.b) / (2 * self.a)  \n",
    "                    return a1,0\n",
    "\n",
    "            else:  \n",
    "                  \n",
    "                a1 = str(- self.b / (2 * self.a)) +\"i\"+ str(sqrt_val)\n",
    "                b1 = str(- self.b / (2 * self.a))+ \"- i\"+ str(sqrt_val) \n",
    "                 \n",
    "                return a1,b1                         \n",
    "\"\"\"Driver Code\"\"\"\n",
    "print(\"Enter the constant values of the quadration equation a,b,c to find the roots\")\n",
    "a = float(input(\"Enter the coefficient of x2\"))\n",
    "b = float(input(\"Enter the coefficient of x\"))\n",
    "c = float(input(\"Enter the constant value\"))\n",
    "if a == 0.0:\n",
    "    print(\"Input correct quadratic equation\")\n",
    "else:\n",
    "    calculate1 = calculate_roots(a,b,c)\n",
    "    root1,root2 = calculate1.calculate()\n",
    "    print(\"The roots of quadratic equation are {} and {}\".format(root1,root2))"
   ]
  },
  {
   "cell_type": "code",
   "execution_count": 6,
   "id": "149f5f67",
   "metadata": {},
   "outputs": [
    {
     "name": "stdout",
     "output_type": "stream",
     "text": [
      "Enter the values first_value and second_value\n",
      "Enter the first_value5\n",
      "Enter the second_value2\n",
      "The swap variable's of 5 and 2 is 2 and 5\n"
     ]
    }
   ],
   "source": [
    "#5.\tWrite a Python program to swap two variables without\n",
    "#temp variable?\n",
    "print(\"Enter the values first_value and second_value\")\n",
    "first_value = int(input(\"Enter the first_value\"))\n",
    "second_value = int(input(\"Enter the second_value\"))\n",
    "first_value1,second_value1 = second_value,first_value\n",
    "print(\"The swap variable's of {} and {} is {} and {}\".format(first_value,second_value,first_value1,second_value1))"
   ]
  },
  {
   "cell_type": "code",
   "execution_count": null,
   "id": "85519479",
   "metadata": {},
   "outputs": [],
   "source": []
  }
 ],
 "metadata": {
  "kernelspec": {
   "display_name": "Python 3 (ipykernel)",
   "language": "python",
   "name": "python3"
  },
  "language_info": {
   "codemirror_mode": {
    "name": "ipython",
    "version": 3
   },
   "file_extension": ".py",
   "mimetype": "text/x-python",
   "name": "python",
   "nbconvert_exporter": "python",
   "pygments_lexer": "ipython3",
   "version": "3.9.7"
  }
 },
 "nbformat": 4,
 "nbformat_minor": 5
}
