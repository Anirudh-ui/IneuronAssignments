{
 "cells": [
  {
   "cell_type": "markdown",
   "id": "c64ac298",
   "metadata": {},
   "source": [
    "# Pyhton Assignment Advandec_1"
   ]
  },
  {
   "cell_type": "code",
   "execution_count": null,
   "id": "8523b94b",
   "metadata": {},
   "outputs": [],
   "source": [
    "\"\"\"\n",
    "Q1. What is the purpose of Python's OOP?\n",
    "\n",
    "A.\n",
    "->Object Oriented programming is a programming paradim that provides\n",
    "a mean's of structuring programs so that properties and behaviors are\n",
    "bundled into the individual objects\n",
    "\n",
    "for examples:\n",
    "an object could represent a person with features like name,age etc\n",
    "or an email with properties like a recipient list , subject and body\n",
    "and behaviors like adding attachments and sending\n",
    "\n",
    "->object oriented programming is an approch for modelling concreate,real\n",
    "world things like cars as well as relations between things like compan-\n",
    "neis and employee's students and teachers and so on .oop models \n",
    "real-world entities as software objects that have some data associated \n",
    "with them and can perform certain  functions\n",
    "\n",
    "->In conclusion objects are the center of OOp in python not\n",
    "only representing the data as in procedural programming but \n",
    "in overall structure of the programming as well\n",
    "\"\"\""
   ]
  },
  {
   "cell_type": "code",
   "execution_count": null,
   "id": "e5709b9e",
   "metadata": {},
   "outputs": [],
   "source": [
    "\"\"\"Q2. Where does an inheritance search look for an attribute?\n",
    "A.\n",
    "->When it comes to multiples inheritance , the child class wil first search the attribute\n",
    "in its own class if noy,then in its parent classes in depth first,left-right order\n",
    "this is called Method Resolution Order(MRO) in python\n",
    "\"\"\""
   ]
  },
  {
   "cell_type": "code",
   "execution_count": null,
   "id": "c3659594",
   "metadata": {},
   "outputs": [],
   "source": [
    "\"\"\"Q3. How do you distinguish between a class object and an instance object?\n",
    "A.\n",
    "->class variables are declared inside a class but outside of any function.\n",
    "Instance variables are declared inside the constructor which is the __init__method\n",
    "\n",
    "->class variables affect the entire class. thus when a class variable is updated\n",
    "all the instances are updated\n",
    "\n",
    "->Intance variables take unique values for each instance.we assgin the values for \n",
    "them when creating instance\n",
    "\n",
    "->All the instances take the same value for class variables at first but we can update them \n",
    "for instance later on  the changes we make on the instance do not \n",
    "affect value of the class variables for other instances\n",
    "\n",
    "\n",
    "\"\"\""
   ]
  },
  {
   "cell_type": "code",
   "execution_count": null,
   "id": "8a9507f6",
   "metadata": {},
   "outputs": [],
   "source": [
    "\"\"\"Q4. What makes the first argument in a class’s method function special?\n",
    "A.\n",
    "-> the first argument of every class method, icluding init is always a reference to the current instance of the class\n",
    "By convention , this argument is always named self In init method , self refers to the newly created Object in other \n",
    "class methods it refer's to the instance whose method was called\n",
    "\n",
    "\n",
    "->Another things I would like to add is an optional self argument \n",
    "allows me to declare static methods inside a class by not writing self\n",
    "\"\"\""
   ]
  },
  {
   "cell_type": "code",
   "execution_count": null,
   "id": "bf503d4c",
   "metadata": {},
   "outputs": [],
   "source": [
    "\"\"\"Q5. What is the purpose of the __init__ method?\n",
    "the __init__ method in python is equivalent of C++ and java constructor's\n",
    "in an oop approch .\n",
    "\n",
    "-> the __init__ method lets the class initialize the object's\n",
    "attribute's and saves no other purpose . it is only used within\n",
    "classes\n",
    "\n",
    "\"\"\""
   ]
  },
  {
   "cell_type": "code",
   "execution_count": null,
   "id": "b5df8564",
   "metadata": {},
   "outputs": [],
   "source": [
    "\"\"\"Q6. What is the process for creating a class instance?\n",
    "A.\n",
    "-> To create instances of a class you call the class using class\n",
    "name and pass in whatever arguments its __init__ method accepts\n",
    "\n",
    "-> To access the objects attribute's use the dot operator with object\n",
    "\n",
    "class Employee:\n",
    "    pass\n",
    "    \n",
    "emp1 = Employee()\n",
    "\"\"\""
   ]
  },
  {
   "cell_type": "code",
   "execution_count": null,
   "id": "881b696e",
   "metadata": {},
   "outputs": [],
   "source": [
    "\"\"\"Q7. What is the process for creating a class?\n",
    "A.\n",
    "class defination starts with class keyword , which is followed \n",
    "by the name if the class and a colon Any code that is indented \n",
    "below the class defination is considered part of the class's body\n",
    "\n",
    "example:\n",
    "\n",
    "class Dog:\n",
    "    pass\n",
    "\n",
    "\"\"\""
   ]
  },
  {
   "cell_type": "code",
   "execution_count": null,
   "id": "8268608a",
   "metadata": {},
   "outputs": [],
   "source": [
    "\"\"\"Q8. How would you define the superclasses of a class?\n",
    "A. The class from which a class inherits is called the parent or \n",
    "superclass . \n",
    "\n",
    "syntax:\n",
    "class DerivedClassName(BaseClassName):\n",
    "    pass\n",
    "\"\"\""
   ]
  }
 ],
 "metadata": {
  "kernelspec": {
   "display_name": "Python 3 (ipykernel)",
   "language": "python",
   "name": "python3"
  },
  "language_info": {
   "codemirror_mode": {
    "name": "ipython",
    "version": 3
   },
   "file_extension": ".py",
   "mimetype": "text/x-python",
   "name": "python",
   "nbconvert_exporter": "python",
   "pygments_lexer": "ipython3",
   "version": "3.9.12"
  }
 },
 "nbformat": 4,
 "nbformat_minor": 5
}
