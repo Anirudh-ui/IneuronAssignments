{
 "cells": [
  {
   "cell_type": "code",
   "execution_count": 6,
   "id": "a47de2c7",
   "metadata": {},
   "outputs": [
    {
     "name": "stdout",
     "output_type": "stream",
     "text": [
      "Enter the number of elements5\n",
      "Enter the number1\n",
      "Enter the number2\n",
      "Enter the number3\n",
      "Enter the number4\n",
      "Enter the number5\n",
      "sum =  15\n"
     ]
    }
   ],
   "source": [
    "#1Write a Python program to find sum of elements in list?\n",
    "def find_sum(l):\n",
    "    sum = 0\n",
    "    for i in l :\n",
    "        sum = sum+i\n",
    "    return sum\n",
    "n = int(input(\"Enter the number of elements\"))\n",
    "lst_number=[]\n",
    "for i in range(n):\n",
    "    i = int(input(\"Enter the number\"))\n",
    "    lst_number.append(i)\n",
    "print('sum = ',find_sum(lst_number))"
   ]
  },
  {
   "cell_type": "code",
   "execution_count": 8,
   "id": "42693348",
   "metadata": {},
   "outputs": [
    {
     "name": "stdout",
     "output_type": "stream",
     "text": [
      "Enter the number of elements5\n",
      "Enter the number1\n",
      "Enter the number2\n",
      "Enter the number3\n",
      "Enter the number4\n",
      "Enter the number5\n",
      "mul =  120\n"
     ]
    }
   ],
   "source": [
    "#2.Write a Python program to  Multiply all numbers in the list?\n",
    "def find_mul(l):\n",
    "    mul = 1\n",
    "    for i in l :\n",
    "        mul = mul*i\n",
    "    return mul\n",
    "n = int(input(\"Enter the number of elements\"))\n",
    "lst_number=[]\n",
    "for i in range(n):\n",
    "    i = int(input(\"Enter the number\"))\n",
    "    lst_number.append(i)\n",
    "print('mul = ',find_mul(lst_number))"
   ]
  },
  {
   "cell_type": "code",
   "execution_count": 11,
   "id": "ed8db188",
   "metadata": {},
   "outputs": [
    {
     "name": "stdout",
     "output_type": "stream",
     "text": [
      "Enter the number of elements5\n",
      "Enter the number1\n",
      "Enter the number1\n",
      "Enter the number2\n",
      "Enter the number8\n",
      "Enter the number7\n",
      "mul =  1\n"
     ]
    }
   ],
   "source": [
    "#3.Write a Python program to find smallest number in a list?\n",
    "def find_min(l):\n",
    "    min_number = l[0]\n",
    "    for i in l :\n",
    "        if(min_number>i):\n",
    "            min_number=i\n",
    "    return min_number\n",
    "n = int(input(\"Enter the number of elements\"))\n",
    "lst_number=[]\n",
    "for i in range(n):\n",
    "    i = int(input(\"Enter the number\"))\n",
    "    lst_number.append(i)\n",
    "print('min = ',find_min(lst_number))"
   ]
  },
  {
   "cell_type": "code",
   "execution_count": 17,
   "id": "91c91a26",
   "metadata": {},
   "outputs": [
    {
     "name": "stdout",
     "output_type": "stream",
     "text": [
      "Enter the number of elements5\n",
      "Enter the number2\n",
      "Enter the number1\n",
      "Enter the number8\n",
      "Enter the number5\n",
      "Enter the number7\n",
      "max =  8\n"
     ]
    }
   ],
   "source": [
    "#4.Write a Python program to find largest number in a list?\n",
    "def find_max(l):\n",
    "    max_number = l[0]\n",
    "    for i in l :\n",
    "        if(max_number<i):\n",
    "            max_number=i\n",
    "    return max_number\n",
    "n = int(input(\"Enter the number of elements\"))\n",
    "lst_number=[]\n",
    "for i in range(n):\n",
    "    i = int(input(\"Enter the number\"))\n",
    "    lst_number.append(i)\n",
    "print('max = ',find_max(lst_number))"
   ]
  },
  {
   "cell_type": "code",
   "execution_count": 35,
   "id": "15ce14f7",
   "metadata": {},
   "outputs": [
    {
     "name": "stdout",
     "output_type": "stream",
     "text": [
      "Enter the number of elements5\n",
      "Enter the number21\n",
      "Enter the number54\n",
      "Enter the number56\n",
      "Enter the number89\n",
      "Enter the number5\n",
      "Second largest element is: 56\n"
     ]
    }
   ],
   "source": [
    "#5.Write a Python program to find second largest number in a list?\n",
    "n = int(input(\"Enter the number of elements\"))\n",
    "list1=[]\n",
    "for i in range(n):\n",
    "    i = int(input(\"Enter the number\"))\n",
    "    list1.append(i)\n",
    "list2 = list(set(list1))\n",
    "list2.sort()\n",
    "print(\"Second largest element is:\", list2[-2])"
   ]
  },
  {
   "cell_type": "code",
   "execution_count": 38,
   "id": "146693bf",
   "metadata": {},
   "outputs": [
    {
     "name": "stdout",
     "output_type": "stream",
     "text": [
      "Enter the number of elements5\n",
      "Enter the number2\n",
      "Enter the number4\n",
      "Enter the number8\n",
      "Enter the number1\n",
      "Enter the number3\n",
      "enter the value of N3\n",
      "[8, 4, 3]\n"
     ]
    }
   ],
   "source": [
    "#6.Write a Python program to find N largest elements from a list?\n",
    "def Nmaxelements(list1, N):\n",
    "    final_list = []\n",
    "    for i in range(0, N):\n",
    "        max1 = 0\n",
    "        for j in range(len(list1)):\t\n",
    "            if list1[j] > max1:\n",
    "                max1 = list1[j];\n",
    "        list1.remove(max1);\n",
    "        final_list.append(max1)\n",
    "    print(final_list)\n",
    "\n",
    "# Driver code\n",
    "n = int(input(\"Enter the number of elements\"))\n",
    "lst_number=[]\n",
    "for i in range(n):\n",
    "    i = int(input(\"Enter the number\"))\n",
    "    lst_number.append(i)\n",
    "N = int(input(\"enter the value of N\"))\n",
    "Nmaxelements(lst_number, N)\n",
    "\n",
    "    "
   ]
  },
  {
   "cell_type": "code",
   "execution_count": 19,
   "id": "b8b9aaec",
   "metadata": {},
   "outputs": [
    {
     "name": "stdout",
     "output_type": "stream",
     "text": [
      "Enter the number of elements5\n",
      "Enter the number1\n",
      "Enter the number2\n",
      "Enter the number3\n",
      "Enter the number4\n",
      "Enter the number5\n",
      "list of even numbers :   [2, 4]\n"
     ]
    }
   ],
   "source": [
    "#7.Write a Python program to print even numbers in a list?\n",
    "def even_numbers(l):\n",
    "    even_number = []\n",
    "    for i in l :\n",
    "        if(i%2==0):\n",
    "            even_number.append(i)\n",
    "    return even_number\n",
    "n = int(input(\"Enter the number of elements\"))\n",
    "lst_number=[]\n",
    "for i in range(n):\n",
    "    i = int(input(\"Enter the number\"))\n",
    "    lst_number.append(i)\n",
    "print('list of even numbers :  ',even_numbers(lst_number))"
   ]
  },
  {
   "cell_type": "code",
   "execution_count": 20,
   "id": "4f4b54a8",
   "metadata": {},
   "outputs": [
    {
     "name": "stdout",
     "output_type": "stream",
     "text": [
      "Enter the number of elements5\n",
      "Enter the number1\n",
      "Enter the number2\n",
      "Enter the number3\n",
      "Enter the number4\n",
      "Enter the number5\n",
      "list of even numbers :   [1, 3, 5]\n"
     ]
    }
   ],
   "source": [
    "#8.Write a Python program to print odd numbers in a List?\n",
    "def odd_numbers(l):\n",
    "    odd_number = []\n",
    "    for i in l :\n",
    "        if(i%2!=0):\n",
    "            odd_number.append(i)\n",
    "    return odd_number\n",
    "n = int(input(\"Enter the number of elements\"))\n",
    "lst_number=[]\n",
    "for i in range(n):\n",
    "    i = int(input(\"Enter the number\"))\n",
    "    lst_number.append(i)\n",
    "print('list of even numbers :  ',odd_numbers(lst_number))"
   ]
  },
  {
   "cell_type": "code",
   "execution_count": 25,
   "id": "b89ba191",
   "metadata": {},
   "outputs": [
    {
     "name": "stdout",
     "output_type": "stream",
     "text": [
      "The original list is : [5, 6, [], 3, [], [], 9]\n",
      "List after empty list removal : [5, 6, 3, 9]\n"
     ]
    }
   ],
   "source": [
    "#9.Write a Python program to Remove empty List from List?\n",
    "def empty_list_remove(input_list):\n",
    "    new_list = []\n",
    "    for ele in input_list:\n",
    "        if ele:\n",
    "            new_list.append(ele)\n",
    "    return new_list\n",
    "\n",
    "\n",
    "# input list values\n",
    "input_list = [5, 6, [], 3, [], [], 9]\n",
    "print(f\"The original list is : {input_list}\")\n",
    "print(f\"List after empty list removal : {empty_list_remove(input_list)}\")\n"
   ]
  },
  {
   "cell_type": "code",
   "execution_count": 31,
   "id": "3454dfa0",
   "metadata": {},
   "outputs": [
    {
     "name": "stdout",
     "output_type": "stream",
     "text": [
      "Original List: [4, 8, 2, 10, 15, 18]\n",
      "After Cloning: [4, 8, 2, 10, 15, 18]\n"
     ]
    }
   ],
   "source": [
    "#10.Write a Python program to Cloning or Copying a list?\n",
    "# Python program to copy or clone a list\n",
    "# Using the Slice Operator\n",
    "def Cloning(li1):\n",
    "    li_copy = li1[:]\n",
    "    return li_copy\n",
    "\n",
    "# Driver Code\n",
    "li1 = [4, 8, 2, 10, 15, 18]\n",
    "li2 = Cloning(li1)\n",
    "print(\"Original List:\", li1)\n",
    "print(\"After Cloning:\", li2)\n"
   ]
  },
  {
   "cell_type": "code",
   "execution_count": 30,
   "id": "69c4307d",
   "metadata": {},
   "outputs": [
    {
     "name": "stdout",
     "output_type": "stream",
     "text": [
      "Enter the number of elements5\n",
      "Enter the number1\n",
      "Enter the number2\n",
      "Enter the number2\n",
      "Enter the number3\n",
      "Enter the number5\n",
      "Enter the element you want to count2\n",
      "the count of   2  :  2\n"
     ]
    }
   ],
   "source": [
    "#11.Write a Python program to Count occurrences of an element in a list?\n",
    "def count_occurance(l,x):\n",
    "    count = 0\n",
    "    for i in l:\n",
    "        if(i==x):\n",
    "            count=count+1\n",
    "    return count\n",
    "n = int(input(\"Enter the number of elements\"))\n",
    "lst_number=[]\n",
    "for i in range(n):\n",
    "    i = int(input(\"Enter the number\"))\n",
    "    lst_number.append(i)\n",
    "x  = int(input(\"Enter the element you want to count\"))\n",
    "print(\"the count of  \",x,\" : \",count_occurance(lst_number,x))"
   ]
  },
  {
   "cell_type": "code",
   "execution_count": null,
   "id": "53e0c392",
   "metadata": {},
   "outputs": [],
   "source": []
  }
 ],
 "metadata": {
  "kernelspec": {
   "display_name": "Python 3 (ipykernel)",
   "language": "python",
   "name": "python3"
  },
  "language_info": {
   "codemirror_mode": {
    "name": "ipython",
    "version": 3
   },
   "file_extension": ".py",
   "mimetype": "text/x-python",
   "name": "python",
   "nbconvert_exporter": "python",
   "pygments_lexer": "ipython3",
   "version": "3.9.7"
  }
 },
 "nbformat": 4,
 "nbformat_minor": 5
}
