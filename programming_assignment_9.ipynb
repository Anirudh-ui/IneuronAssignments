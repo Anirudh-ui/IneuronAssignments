{
 "cells": [
  {
   "cell_type": "code",
   "execution_count": 1,
   "id": "18f84e3f",
   "metadata": {},
   "outputs": [
    {
     "name": "stdout",
     "output_type": "stream",
     "text": [
      "Enter a number135\n",
      "135 is darsium number\n"
     ]
    }
   ],
   "source": [
    "def length_calculation(my_val):   \n",
    "   len_val = 0   \n",
    "   while(my_val != 0):   \n",
    "      len_val = len_val + 1   \n",
    "      my_val = my_val//10   \n",
    "   return len_val   \n",
    "\n",
    "def digit_sum(my_num):   \n",
    "   remaining = sum_val = 0  \n",
    "   len_fun = length_calculation(my_num)   \n",
    "      \n",
    "   while(my_num > 0):   \n",
    "      remaining = my_num%10   \n",
    "      sum_val = sum_val + (remaining**len_fun)   \n",
    "      my_num = my_num//10  \n",
    "      len_fun = len_fun - 1   \n",
    "   return sum_val   \n",
    "     \n",
    "n = int(input(\"Enter a number\"))\n",
    "if(digit_sum(n)==n):\n",
    "    print(\"{} is darsium number\".format(n))\n",
    "else:\n",
    "    print(\"{} is not darsium number\".format(n))"
   ]
  },
  {
   "cell_type": "code",
   "execution_count": 16,
   "id": "3e3cfb88",
   "metadata": {},
   "outputs": [
    {
     "name": "stdout",
     "output_type": "stream",
     "text": [
      "The disarium numbers between 1 and 100 are : \n",
      "1\n",
      "2\n",
      "3\n",
      "4\n",
      "5\n",
      "6\n",
      "7\n",
      "8\n",
      "9\n",
      "89\n",
      "135\n",
      "175\n"
     ]
    }
   ],
   "source": [
    "#2.\tWrite a Python program to print all disarium numbers between 1 to 100?\n",
    "def length_calculation(my_val):   \n",
    "   len_val = 0   \n",
    "   while(my_val != 0):   \n",
    "      len_val = len_val + 1   \n",
    "      my_val = my_val//10   \n",
    "   return len_val   \n",
    "\n",
    "def digit_sum(my_num):   \n",
    "   remaining = sum_val = 0  \n",
    "   len_fun = length_calculation(my_num)   \n",
    "      \n",
    "   while(my_num > 0):   \n",
    "      remaining = my_num%10   \n",
    "      sum_val = sum_val + (remaining**len_fun)   \n",
    "      my_num = my_num//10  \n",
    "      len_fun = len_fun - 1   \n",
    "   return sum_val   \n",
    "     \n",
    "ini_result = 0  \n",
    "    \n",
    "print(\"The disarium numbers between 1 and 100 are : \") \n",
    "for i in range(1, 200):   \n",
    "   ini_result = digit_sum(i)   \n",
    "      \n",
    "   if(ini_result == i):   \n",
    "      print(i)"
   ]
  },
  {
   "cell_type": "code",
   "execution_count": 14,
   "id": "15b21aa8",
   "metadata": {},
   "outputs": [
    {
     "name": "stdout",
     "output_type": "stream",
     "text": [
      "Enter a number7\n",
      "7 is a Happy number\n"
     ]
    }
   ],
   "source": [
    "#3.\tWrite a Python program to check if the given number is Happy Number?\n",
    "def num_square_sum(n):\n",
    "    square_sum = 0\n",
    "    while(n):\n",
    "        square_sum += (n % 10) * (n % 10);\n",
    "        n = int(n / 10);\n",
    "    return square_sum;\n",
    "def is_happy_number(n):\n",
    "    slow = n\n",
    "    fast = n\n",
    "    while(True):\n",
    "        slow = num_square_sum(slow);\n",
    "        fast = num_square_sum(num_square_sum(fast));\n",
    "        if(slow != fast):\n",
    "            continue;\n",
    "        else:\n",
    "            break;\n",
    "    return (slow == 1);\n",
    "n = int(input(\"Enter a number\"))\n",
    "if (is_happy_number(n)):\n",
    "    print(n , \"is a Happy number\");\n",
    "else:\n",
    "    print(n , \"is not a Happy number\");"
   ]
  },
  {
   "cell_type": "code",
   "execution_count": 15,
   "id": "a4f25cc9",
   "metadata": {},
   "outputs": [
    {
     "name": "stdout",
     "output_type": "stream",
     "text": [
      "The happy numbers from 1 to 100 are:\n",
      "1\n",
      "7\n",
      "10\n",
      "13\n",
      "19\n",
      "23\n",
      "28\n",
      "31\n",
      "32\n",
      "44\n",
      "49\n",
      "68\n",
      "70\n",
      "79\n",
      "82\n",
      "86\n",
      "91\n",
      "94\n",
      "97\n",
      "100\n"
     ]
    }
   ],
   "source": [
    "#4.\tWrite a Python program to print all happy numbers between 1 and 100?\n",
    "#3.\tWrite a Python program to check if the given number is Happy Number?\n",
    "def num_square_sum(n):\n",
    "    square_sum = 0\n",
    "    while(n):\n",
    "        square_sum += (n % 10) * (n % 10);\n",
    "        n = int(n / 10);\n",
    "    return square_sum;\n",
    "def is_happy_number(n):\n",
    "    slow = n\n",
    "    fast = n\n",
    "    while(True):\n",
    "        slow = num_square_sum(slow);\n",
    "        fast = num_square_sum(num_square_sum(fast));\n",
    "        if(slow != fast):\n",
    "            continue;\n",
    "        else:\n",
    "            break;\n",
    "    return (slow == 1);\n",
    "print(\"The happy numbers from 1 to 100 are:\")\n",
    "for i in range(1,101):\n",
    "    if(is_happy_number(i)==1):\n",
    "        print(i)"
   ]
  },
  {
   "cell_type": "code",
   "execution_count": 24,
   "id": "74013f3d",
   "metadata": {},
   "outputs": [
    {
     "name": "stdout",
     "output_type": "stream",
     "text": [
      "Enter a number19\n",
      "19  is not a harshad number\n"
     ]
    }
   ],
   "source": [
    "# 4 check if the number is harshad number or no\n",
    "def checkHarshad(n) :\n",
    "    sum = 0\n",
    "    temp = n\n",
    "    while temp > 0 :\n",
    "        sum = sum + temp % 10\n",
    "        temp = temp // 10\n",
    "    return n % sum == 0\n",
    "\n",
    "# Driver Code\n",
    "n = int(input(\"Enter a number\"))\n",
    "if(checkHarshad(n)):\n",
    "    print(n,\" is a harshad number\")\n",
    "else:\n",
    "    print(n,\" is not a harshad number\")"
   ]
  },
  {
   "cell_type": "code",
   "execution_count": 25,
   "id": "1136d6b2",
   "metadata": {},
   "outputs": [
    {
     "name": "stdout",
     "output_type": "stream",
     "text": [
      "Pronic numbers between 1 and 100: \n",
      "2\n",
      "6\n",
      "12\n",
      "20\n",
      "30\n",
      "42\n",
      "56\n",
      "72\n",
      "90\n"
     ]
    }
   ],
   "source": [
    "#6.\tWrite a Python program to print all pronic numbers between 1 and 100?\n",
    "def isPronicNumber(num):    \n",
    "    flag = False;    \n",
    "    for j in range(1, num+1):  \n",
    "        if((j*(j+1)) == num):    \n",
    "            flag = True;    \n",
    "            break;    \n",
    "    return flag;       \n",
    "print(\"Pronic numbers between 1 and 100: \");    \n",
    "for i in range(1, 101):    \n",
    "    if(isPronicNumber(i)):    \n",
    "        print(i)    "
   ]
  },
  {
   "cell_type": "code",
   "execution_count": null,
   "id": "c239bd12",
   "metadata": {},
   "outputs": [],
   "source": []
  }
 ],
 "metadata": {
  "kernelspec": {
   "display_name": "Python 3 (ipykernel)",
   "language": "python",
   "name": "python3"
  },
  "language_info": {
   "codemirror_mode": {
    "name": "ipython",
    "version": 3
   },
   "file_extension": ".py",
   "mimetype": "text/x-python",
   "name": "python",
   "nbconvert_exporter": "python",
   "pygments_lexer": "ipython3",
   "version": "3.9.7"
  }
 },
 "nbformat": 4,
 "nbformat_minor": 5
}
