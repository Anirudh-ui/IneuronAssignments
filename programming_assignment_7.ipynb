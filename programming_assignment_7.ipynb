{
 "cells": [
  {
   "cell_type": "markdown",
   "id": "8f87cabe",
   "metadata": {},
   "source": [
    "# programming_assigment_7"
   ]
  },
  {
   "cell_type": "code",
   "execution_count": 2,
   "id": "9ced0de0",
   "metadata": {},
   "outputs": [
    {
     "name": "stdout",
     "output_type": "stream",
     "text": [
      "Enter the number of elements in the array3\n",
      "Enter the number1\n",
      "Enter the number2\n",
      "Enter the number3\n",
      "The Sum of numbers in the list is 6 \n"
     ]
    }
   ],
   "source": [
    "#1.\tWrite a Python Program to find sum of array?\n",
    "def sum_of_array(l):\n",
    "    sum = 0\n",
    "    for i in l:\n",
    "        sum = sum+i\n",
    "    return sum\n",
    "#Driver Code\n",
    "n = int(input(\"Enter the number of elements in the array\"))\n",
    "list_of_number = []\n",
    "for i in range(n):\n",
    "    number  = int(input(\"Enter the number\"))\n",
    "    list_of_number.append(number)\n",
    "print(\"The Sum of numbers in the list is {} \".format(sum_of_array(list_of_number)))"
   ]
  },
  {
   "cell_type": "code",
   "execution_count": 2,
   "id": "59088ac5",
   "metadata": {},
   "outputs": [
    {
     "name": "stdout",
     "output_type": "stream",
     "text": [
      "Enter the number of terms in the list5\n",
      "Enter the number1\n",
      "Enter the number20\n",
      "Enter the number90\n",
      "Enter the number100\n",
      "Enter the number4\n",
      "The largest element in the array is 100\n"
     ]
    }
   ],
   "source": [
    "#2.\tWrite a Python Program to find largest element in an array?\n",
    "def find_largest(l):\n",
    "    max_number = 0\n",
    "    for i in l:\n",
    "        if max_number < i:\n",
    "            max_number = i\n",
    "    return max_number\n",
    "#driver code\n",
    "n = int(input(\"Enter the number of terms in the list\"))\n",
    "list_of_numbers = []\n",
    "for i in range(n):\n",
    "    numbers = int(input(\"Enter the number\"))\n",
    "    list_of_numbers.append(numbers)\n",
    "print(\"The largest element in the array is {}\".format(find_largest(list_of_numbers)))"
   ]
  },
  {
   "cell_type": "code",
   "execution_count": 14,
   "id": "b308e78f",
   "metadata": {},
   "outputs": [
    {
     "name": "stdout",
     "output_type": "stream",
     "text": [
      "Enter the number of values in array5\n",
      "Enter value1\n",
      "Enter value2\n",
      "Enter value2\n",
      "Enter value4\n",
      "Enter value5\n",
      "[1, 2, 2, 4, 5]\n",
      "Rotated list is\n",
      "position at which you want to rotate the array3\n",
      "[4, 5, 1, 2, 2]\n"
     ]
    }
   ],
   "source": [
    "#3.\tWrite a Python Program for array rotation?\n",
    "def rotateList(arr,d,n):\n",
    "  arr[:]=arr[d:n]+arr[0:d]\n",
    "  return arr\n",
    "# Driver function to test above function\n",
    "n = int(input(\"Enter the number of values in array\"))\n",
    "lst_numbers = []\n",
    "for i in range(n):\n",
    "    number = int(input(\"Enter value\"))\n",
    "    lst_numbers.append(number)\n",
    "print(lst_numbers)\n",
    "print(\"Rotated list is\")\n",
    "p = int(input(\"position at which you want to rotate the array\"))\n",
    "print(rotateList(lst_numbers,p,len(lst_numbers)))\n"
   ]
  },
  {
   "cell_type": "code",
   "execution_count": 9,
   "id": "12bad18a",
   "metadata": {},
   "outputs": [
    {
     "name": "stdout",
     "output_type": "stream",
     "text": [
      "Enter the number of terms in the list5\n",
      "Enter values1\n",
      "Enter values2\n",
      "Enter values3\n",
      "Enter values4\n",
      "Enter values5\n",
      "Enter the position at which you want to split the list3\n",
      "['1', '2', '3', '4', '5']\n",
      "['1', '2', '3']\n",
      "['1', '2', '3', '1', '2', '3', '4', '5']\n"
     ]
    }
   ],
   "source": [
    "#4.\tWrite a Python Program to Split the array and add the first part to the end?\n",
    "no_of_terms  = int(input(\"Enter the number of terms in the list\"))\n",
    "lst_of_values = []\n",
    "for i in range(no_of_terms):\n",
    "    value = input(\"Enter values\")\n",
    "    lst_of_values.append(value)\n",
    "split_at = int(input(\"Enter the position at which you want to split the list\"))\n",
    "lst_split = lst_of_values[0:split_at]\n",
    "final_lst = lst_split + lst_of_values   \n",
    "print(lst_of_values)\n",
    "print(lst_split)\n",
    "print(final_lst)"
   ]
  },
  {
   "cell_type": "code",
   "execution_count": 13,
   "id": "0136a0aa",
   "metadata": {},
   "outputs": [
    {
     "name": "stdout",
     "output_type": "stream",
     "text": [
      "Enter the number of terms in list5\n",
      "Enter number1\n",
      "Enter number5\n",
      "Enter number2\n",
      "Enter number3\n",
      "Enter number6\n",
      "Array is not monotonic\n"
     ]
    }
   ],
   "source": [
    "#5.\tWrite a Python Program to check if given array is Monotonic?\n",
    "\"\"\"\n",
    "An array is monotonic if and only if it is monotone increasing, or monotone decreasing. Since p <= q and q <= r implies p <= r. So we only need to check adjacent elements to determine if the array is monotone increasing (or decreasing), respectively. We can check each of these properties in one pass.\n",
    "To check whether an array A is monotone increasing, we’ll check A[i] <= A[i+1] for all i indexing from 0 to len(A)-2. Similarly we can check for monotone decreasing where A[i] >= A[i+1] for all i indexing from 0 to len(A)-2.\n",
    "Note: Array with single element can be considered to be both monotonic increasing or decreasing, hence returns “True“.\n",
    "\"\"\"\n",
    "n = int(input(\"Enter the number of terms in list\"))\n",
    "lst_of_numbers = []\n",
    "for i in range(n):\n",
    "    number = int(input(\"Enter number\"))\n",
    "    lst_of_numbers.append(number)\n",
    "if (all(lst_of_numbers[i] <= lst_of_numbers[i + 1] for i in range(len(lst_of_numbers) - 1)) or\n",
    "            all(lst_of_numbers[i] >= lst_of_numbers[i + 1] for i in range(len(lst_of_numbers) - 1))):\n",
    "    print(\"Array is Monotonic\")\n",
    "else:\n",
    "    print(\"Array is not monotonic\")\n"
   ]
  },
  {
   "cell_type": "code",
   "execution_count": null,
   "id": "30ae531a",
   "metadata": {},
   "outputs": [],
   "source": []
  }
 ],
 "metadata": {
  "kernelspec": {
   "display_name": "Python 3 (ipykernel)",
   "language": "python",
   "name": "python3"
  },
  "language_info": {
   "codemirror_mode": {
    "name": "ipython",
    "version": 3
   },
   "file_extension": ".py",
   "mimetype": "text/x-python",
   "name": "python",
   "nbconvert_exporter": "python",
   "pygments_lexer": "ipython3",
   "version": "3.9.7"
  }
 },
 "nbformat": 4,
 "nbformat_minor": 5
}
