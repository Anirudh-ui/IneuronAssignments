{
 "cells": [
  {
   "cell_type": "code",
   "execution_count": 14,
   "id": "de05bc24",
   "metadata": {},
   "outputs": [
    {
     "name": "stdout",
     "output_type": "stream",
     "text": [
      "100\n",
      "0,35,70\n"
     ]
    }
   ],
   "source": [
    "\"\"\"\n",
    "Question 1:\n",
    "Please write a program using generator to print the numbers which can be divisible by 5 and 7 between 0 and n in comma separated form while n is input by console.\n",
    "Example:\n",
    "If the following n is given as input to the program:\n",
    "100\n",
    "Then, the output of the program should be:\n",
    "0,35,70\n",
    "\"\"\"\n",
    "def generator(n):\n",
    "    for i in range(n):\n",
    "        if (i%5==0) and (i%7==0):\n",
    "            yield i\n",
    "\"\"\"Driver Code\"\"\"\n",
    "n = int(input(\"\"))\n",
    "lst_of_number = [i for i in generator(n)]\n",
    "for i in range(len(lst_of_number)):\n",
    "    if i<len(lst_of_number)-1:\n",
    "        print(lst_of_number[i],end=\",\")\n",
    "    else:\n",
    "        print(lst_of_number[i])"
   ]
  },
  {
   "cell_type": "code",
   "execution_count": 1,
   "id": "682c6062",
   "metadata": {},
   "outputs": [
    {
     "name": "stdout",
     "output_type": "stream",
     "text": [
      "10\n",
      "0,2,4,6,8,10\n"
     ]
    }
   ],
   "source": [
    "\"\"\"\n",
    "Question 2:\n",
    "Please write a program using generator to print the even numbers between 0 and n in comma separated form while n is input by console.\n",
    "Example:\n",
    "If the following n is given as input to the program:\n",
    "10\n",
    "Then, the output of the program should be:\n",
    "0,2,4,6,8,10\n",
    "\n",
    "\"\"\"\n",
    "def generator(n):\n",
    "    for i in range((n+1)):\n",
    "        if (i%2==0):\n",
    "            yield i\n",
    "\"\"\"Driver Code\"\"\"\n",
    "n = int(input(\"\"))\n",
    "lst_of_number = [i for i in generator(n)]\n",
    "for i in range(len(lst_of_number)):\n",
    "    if i<len(lst_of_number)-1:\n",
    "        print(lst_of_number[i],end=\",\")\n",
    "    else:\n",
    "        print(lst_of_number[i])"
   ]
  },
  {
   "cell_type": "code",
   "execution_count": 9,
   "id": "d48c344a",
   "metadata": {},
   "outputs": [
    {
     "name": "stdout",
     "output_type": "stream",
     "text": [
      "7\n",
      "0,1,1,2,3,5,8,13\n"
     ]
    }
   ],
   "source": [
    "\"\"\"\n",
    "Question 3:\n",
    "The Fibonacci Sequence is computed based on the following formula:\n",
    "f(n)=0 if n=0\n",
    "f(n)=1 if n=1\n",
    "f(n)=f(n-1)+f(n-2) if n>1\n",
    "Please write a program using list comprehension to print the Fibonacci Sequence in comma separated form with a given n input by console.\n",
    "Example:\n",
    "If the following n is given as input to the program:\n",
    "7\n",
    "\n",
    "Then, the output of the program should be:\n",
    "0,1,1,2,3,5,8,13\n",
    "\"\"\"\n",
    "n = int(input())\n",
    "lst=[\n",
    "    0 if not i else\n",
    "        (x := [0, 1]) and 1 if i == 1 else\n",
    "            not x.append(x[-2] + x[-1]) and x[-1]\n",
    "    for i in range(n+1)\n",
    "]\n",
    "for i in range(len(lst)):\n",
    "    if i<len(lst)-1:\n",
    "        print(lst[i],end=\",\")\n",
    "    else:\n",
    "        print(lst[i])"
   ]
  },
  {
   "cell_type": "code",
   "execution_count": 5,
   "id": "5b5e6fd0",
   "metadata": {},
   "outputs": [
    {
     "name": "stdout",
     "output_type": "stream",
     "text": [
      "john@google.com\n",
      "john\n"
     ]
    }
   ],
   "source": [
    "\"\"\"\n",
    "Question 4:\n",
    "Assuming that we have some email addresses in the \"username@companyname.com\" format, please write program to print the user name of a given email address. Both user names and company names are composed of letters only.\n",
    "Example:\n",
    "If the following email address is given as input to the program:\n",
    "john@google.com\n",
    "Then, the output of the program should be:\n",
    "john\n",
    "\n",
    "\"\"\"\n",
    "def print_name(s):\n",
    "    lst = s.split('@')\n",
    "    return lst\n",
    "\"\"\"Driver Code\"\"\"\n",
    "s = input()\n",
    "output = print_name(s)\n",
    "print(output[0])"
   ]
  },
  {
   "cell_type": "code",
   "execution_count": 3,
   "id": "c7003425",
   "metadata": {},
   "outputs": [
    {
     "name": "stdout",
     "output_type": "stream",
     "text": [
      "Enter the side 0\n",
      "area is  0\n"
     ]
    }
   ],
   "source": [
    "\"\"\"\n",
    "Question 5:\n",
    "Define a class named Shape and its subclass Square. The Square class has an init function which takes a length as argument. Both classes have a area function which can print the area of the shape where Shape's area is 0 by default.\n",
    "Both classes have a area function which can print the area of the shape where Shape's area is 0 by default\n",
    "\"\"\"\n",
    "class Shape:\n",
    "    def area(self):\n",
    "        print(\"area of the Shape is \",0)\n",
    "class Square(Shape):\n",
    "    def __init__(self,length):\n",
    "        self.length = length\n",
    "    def area(self):\n",
    "        area_square = self.length*self.length\n",
    "        print(\"area is \",area_square)\n",
    "\"\"\"driver Code\"\"\"\n",
    "n = int(input(\"Enter the side \"))\n",
    "area_of_shape  = Square(n)\n",
    "area_of_shape.area()\n",
    "    "
   ]
  },
  {
   "cell_type": "code",
   "execution_count": null,
   "id": "9f46d199",
   "metadata": {},
   "outputs": [],
   "source": []
  },
  {
   "cell_type": "code",
   "execution_count": null,
   "id": "399c1f0b",
   "metadata": {},
   "outputs": [],
   "source": []
  }
 ],
 "metadata": {
  "kernelspec": {
   "display_name": "Python 3 (ipykernel)",
   "language": "python",
   "name": "python3"
  },
  "language_info": {
   "codemirror_mode": {
    "name": "ipython",
    "version": 3
   },
   "file_extension": ".py",
   "mimetype": "text/x-python",
   "name": "python",
   "nbconvert_exporter": "python",
   "pygments_lexer": "ipython3",
   "version": "3.9.7"
  }
 },
 "nbformat": 4,
 "nbformat_minor": 5
}
