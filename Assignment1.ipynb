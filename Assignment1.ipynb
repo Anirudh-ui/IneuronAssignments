{
 "cells": [
  {
   "cell_type": "markdown",
   "id": "3bd66de5",
   "metadata": {},
   "source": [
    "\n",
    "# Assigment_1-ineuron.ai"
   ]
  },
  {
   "cell_type": "code",
   "execution_count": null,
   "id": "6a809684",
   "metadata": {},
   "outputs": [],
   "source": [
    "1.In the below elements which of them are values or an expression? eg:- values \n",
    "can be integer or string and expressions will be mathematical operators.\n",
    "Ans) *     -> expression\n",
    "    'hello'->value\n",
    "    -87.8 ->value\n",
    "      -   ->expression\n",
    "      /   ->expression \n",
    "      +   ->expression\n",
    "      6   ->value"
   ]
  },
  {
   "cell_type": "code",
   "execution_count": null,
   "id": "7935dbc1",
   "metadata": {},
   "outputs": [],
   "source": [
    "2. What is the difference between string and variable?\n",
    "Ans) Differances between strings and varible\n",
    "\n",
    "String:\n",
    "a.String usually represents a array of bytes of unicode-charactors.usually it is declared either in single quotes or double \n",
    "quotes\n",
    "for example: i = \"INEURON\" or i='INEURON'\n",
    "b.In pyhton string is class which is used to store string literals\n",
    "\n",
    "Variable:\n",
    "a.it is a name given to a specific memory location in which the value is stored.\n",
    "b.while declaring a variable in python we dont have to specify the datatype of the value it is automatically taken care of the pyhton intrepreture.\n",
    "c.Since pyhton is an object Oriented language all the values are stored in the form of objects which is similar to that of the datatype of the value and a referance is given to the variable\n",
    "for example a = 10;\n",
    "In the above example 'a' is the variable name and '10' is the integer value so in python since the data type of 10 is integer the value 10 is stored in Integer class and a referance is give to the variable name a \n"
   ]
  },
  {
   "cell_type": "code",
   "execution_count": null,
   "id": "6cd43bb4",
   "metadata": {},
   "outputs": [],
   "source": [
    "3. Describe three different data types?\n",
    "Ans)\n",
    "Data types are the classification or categorization of data items.It represents the kind of value that tells what operations can\n",
    "be performed on a particular data.Since pyhton is Object Oriented data types are actually classes and variables are instance of\n",
    "these classes.\n",
    "There are different types of datatypes in pyhton:\n",
    "a. Numeric datatype:\n",
    "this contains Integers,float point values,complex number \n",
    "declaration : integer -> a=10\n",
    "              float   ->a = 20.5\n",
    "              complex - >a = 10+5j\n",
    "\n",
    "\n",
    "b.Sequence Data type:\n",
    "In pyhton sequence means sequence is the ordered collection of similar or different data types. Sequences\n",
    "allows to store multiple values in an organized, efficient manner.\n",
    "The sequences are Strings,Lists,Tuples\n",
    "declarations\n",
    "String -> a = \"INEURON\" / a='INEURON'\n",
    "list:lists are just like the arrays, declared in other languages which is a ordered collection of data. It is very flexible as\n",
    "the items in a list do not need to be of the same data type.\n",
    "list_of_fruits = [\"Apple\",\"Mango\",\"Banana\"]\n",
    "tuples:Just like list, tuple is also an ordered collection of Python objects. The only difference between tuple and list is that\n",
    "tuples are immutable i.e. tuples cannot be modified after it is created. It is represented by tuple class\n",
    "t = (1,2,3) - >Declaration of tuples\n",
    "\n",
    "Boolean:\n",
    "Boolean objects that are equal to True are truthy (true), and those equal to False are falsy (false).\n",
    "a = True(Truthy value)\n",
    "b = False(Falsy value)\n",
    "\n",
    "\n",
    "Sets:\n",
    " set is an unordered collection of data type that is iterable, mutable and has no duplicate elements.\n",
    "a = {\"mango\",\"banana\"}\n",
    "\n",
    "dictionary:\n",
    "Dictionary in Python is an unordered collection of data values, used to store data values like a map, which\n",
    "unlike other Data Types that hold only single value as an element, Dictionary holds key:value pair\n",
    "a = {\"name\":\"INEURON\"}\n",
    "\n",
    "These are the datatypes present in the pyhton..."
   ]
  },
  {
   "cell_type": "code",
   "execution_count": null,
   "id": "d50a367a",
   "metadata": {},
   "outputs": [],
   "source": [
    "4.What is an expression made up of? What do all expressions do?\n",
    "An expression is a combination of operators and operands that is interpreted to produce some other value.\n",
    "example of expressions in pyhton are\n",
    "arithmetic expression -> x=20\n",
    "                         y=40\n",
    "                         a=x+y   #20+40#expression\n",
    "logical expression -> x = True \n",
    "                      y = False\n",
    "                      a = x and y # True and False -> False is stored in a#expression"
   ]
  },
  {
   "cell_type": "code",
   "execution_count": null,
   "id": "4fc4b364",
   "metadata": {},
   "outputs": [],
   "source": [
    "5.This assignment statements, like spam = 10. What is the difference between an expression and a statement?\n",
    "Ans)\n",
    "statement:\n",
    "A statement executes something,The execution of a statement changes state\n",
    "Execution of a statement may or may not produces or displays a result value, it only does whatever the statement says.\n",
    "Example: >>> x = 3\n",
    ">>> print(x)\n",
    "3#output\n",
    "expression:\n",
    "An expression evaluates to a value The evaluation of a statement does not changes state\tThe execution of a statement \n",
    "changes state\n",
    "Evaluation of an expression always Produces or returns a result value."
   ]
  },
  {
   "cell_type": "code",
   "execution_count": null,
   "id": "d65ffdd4",
   "metadata": {},
   "outputs": [],
   "source": [
    "6.After running the following code, what does the variable bacon contain?\n",
    "bacon = 22\n",
    "bacon + 1\n",
    "After running the following code bacon contains 23"
   ]
  },
  {
   "cell_type": "code",
   "execution_count": null,
   "id": "316877ee",
   "metadata": {},
   "outputs": [],
   "source": [
    "7.What should the values of the following two terms be?\n",
    "'spam' + 'spamspam'\n",
    "'spam' * 3\n",
    "Ans)Both the expression give the value = spamspamspam"
   ]
  },
  {
   "cell_type": "code",
   "execution_count": null,
   "id": "6ac0dd62",
   "metadata": {},
   "outputs": [],
   "source": [
    "8.Why is eggs a valid variable name while 100 is invalid?\n",
    "Ans) because variable name cannot be numbers so 100 is invalid variable name"
   ]
  },
  {
   "cell_type": "code",
   "execution_count": null,
   "id": "0e7383b9",
   "metadata": {},
   "outputs": [],
   "source": [
    "9.What three functions can be used to get the integer, floating-point number, or string version of a value?\n",
    "Ans)The int(),float(),str( ) functions will evaluate to the integer, floating-point number, and string versions of the value."
   ]
  },
  {
   "cell_type": "code",
   "execution_count": null,
   "id": "5f6c0586",
   "metadata": {},
   "outputs": [],
   "source": [
    "10.Why does this expression cause an error? How can you fix it?\n",
    "'I have eaten ' + 99 + ' burritos.'\n",
    "Ans)this expression causes the error ->type error to fix this error we must pass 99 which is an integer \n",
    "to str() function and convert 99 to string value that is \n",
    "\n",
    "a='I have eaten ' + str(99) + ' burritos.'\n",
    "print(a)"
   ]
  }
 ],
 "metadata": {
  "kernelspec": {
   "display_name": "Python 3 (ipykernel)",
   "language": "python",
   "name": "python3"
  },
  "language_info": {
   "codemirror_mode": {
    "name": "ipython",
    "version": 3
   },
   "file_extension": ".py",
   "mimetype": "text/x-python",
   "name": "python",
   "nbconvert_exporter": "python",
   "pygments_lexer": "ipython3",
   "version": "3.9.7"
  }
 },
 "nbformat": 4,
 "nbformat_minor": 5
}
