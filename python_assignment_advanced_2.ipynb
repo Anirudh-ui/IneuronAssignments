{
 "cells": [
  {
   "cell_type": "code",
   "execution_count": null,
   "id": "6fb8f2aa",
   "metadata": {},
   "outputs": [],
   "source": [
    "\"\"\"\n",
    "Q1. What is the relationship between classes and modules?\n",
    "A. the Differance between a python class and python module is used to define the blueprint of a object where as \n",
    "module is used to reuse a give piece of code in another program\n",
    "\n",
    "Generally a module is saved by adding a .py extension to the python file\n",
    "for example name.py\n",
    "\n",
    "where as a class is defined by \n",
    "syntax here class is keyword which is used to create a class\n",
    "class className:\n",
    "    pass\n",
    "\"\"\""
   ]
  },
  {
   "cell_type": "code",
   "execution_count": null,
   "id": "2c1e0039",
   "metadata": {},
   "outputs": [],
   "source": [
    "\"\"\"Q2. How do you make instances and classes?\n",
    "A. The class statement creates a new class defination the name of the class immediately follows the keywords class\n",
    "followed by className\n",
    "\n",
    "class ClassName:\n",
    "    class body\n",
    "    \n",
    "instances of a class are created by using the classname and pass in arguments that are acepted by __init__method of that \n",
    "particular class\n",
    "\n",
    "class Employee:\n",
    "    pass\n",
    "    \n",
    "emp1 = Employee()\n",
    "\"\"\"\n"
   ]
  },
  {
   "cell_type": "code",
   "execution_count": null,
   "id": "d344b86d",
   "metadata": {},
   "outputs": [],
   "source": [
    "\"\"\"Q3. Where and how should be class attributes created?\n",
    "\n",
    "A.class attributes belong to the class itself they are created on top of a particular class\n",
    "\n",
    "example:\n",
    "    class className:\n",
    "        classattributes\n",
    "\"\"\""
   ]
  },
  {
   "cell_type": "code",
   "execution_count": null,
   "id": "3c9a5b34",
   "metadata": {},
   "outputs": [],
   "source": [
    "\"\"\"Q4. Where and how are instance attributes created?\n",
    "A An instance attribute is a Python variable belonging to one, and only one, object. This variable is only accessible in the scope of this object and\n",
    "it is defined inside the constructor function, __init__(self,..) of the class.\n",
    "\"\"\""
   ]
  },
  {
   "cell_type": "code",
   "execution_count": null,
   "id": "eaafb3cb",
   "metadata": {},
   "outputs": [],
   "source": [
    "\"\"\"Q5. What does the term \"self\" in a Python class mean?\n",
    "self represents instance of a class\n",
    "class Person:\n",
    "  def __init__(mysillyobject, name, age):\n",
    "    mysillyobject.name = name\n",
    "    mysillyobject.age = age\n",
    "\n",
    "  def myfunc(abc):\n",
    "    print(\"Hello my name is \" + abc.name)\n",
    "\n",
    "p1 = Person(\"John\", 36)\n",
    "p1.myfunc()\n",
    "\n",
    "\"\"\""
   ]
  },
  {
   "cell_type": "code",
   "execution_count": null,
   "id": "87891c0f",
   "metadata": {},
   "outputs": [],
   "source": [
    "\"\"\"Q6. How does a Python class handle operator overloading?\n",
    "In python overloading is achieved through invoking functions for instance when ever the python intrepretor comes across\n",
    "'+' operator it either invokes __add__ function in int class or str class depending on the data type that is being added\n",
    "\"\"\""
   ]
  },
  {
   "cell_type": "code",
   "execution_count": null,
   "id": "c7cf8f90",
   "metadata": {},
   "outputs": [],
   "source": [
    "\"\"\"Q7. When do you consider allowing operator overloading of your classes?\n",
    "A. it allows for reusability\n",
    "   it increase's code clarity and decrease's code complexity\n",
    "   it makes the code consise\n",
    "\"\"\""
   ]
  },
  {
   "cell_type": "code",
   "execution_count": null,
   "id": "ed5b83de",
   "metadata": {},
   "outputs": [],
   "source": [
    "\"\"\"Q8. What is the most popular form of operator overloading?\n",
    "the most popular form of operator overloading is + operator in which if you wanted to add two numbers we just put + operator\n",
    "and also if we want to concat two strings we use + operator\n",
    "\n",
    "example: 2+5\n",
    ">>>7\n",
    "'file'+'.py'\n",
    ">>>'file.py'\n",
    "\"\"\""
   ]
  },
  {
   "cell_type": "code",
   "execution_count": null,
   "id": "10ba7386",
   "metadata": {},
   "outputs": [],
   "source": [
    "\"\"\"Q9. What are the two most important concepts to grasp in order to comprehend Python OOP code?\n",
    "inheritance -> inheritance allows user's to define a class which can inherit the properties from another class\n",
    "the class from which properties are inherited is called a parent class  or base class\n",
    "the class that inherits the properties is  called child class\n",
    "\n",
    "Example:\n",
    " class Employee:\n",
    "     pass\n",
    " class manager(Employee):\n",
    "     pass\n",
    "     \n",
    "polymorphism -> the fundamental concept of polymorphism is condition of occurance in different forms.\n",
    "the direct example for polymorphism in python is that the '+' operator acts as both for number addition and also for \n",
    "string concatination \n",
    "\"\"\""
   ]
  }
 ],
 "metadata": {
  "kernelspec": {
   "display_name": "Python 3 (ipykernel)",
   "language": "python",
   "name": "python3"
  },
  "language_info": {
   "codemirror_mode": {
    "name": "ipython",
    "version": 3
   },
   "file_extension": ".py",
   "mimetype": "text/x-python",
   "name": "python",
   "nbconvert_exporter": "python",
   "pygments_lexer": "ipython3",
   "version": "3.9.12"
  }
 },
 "nbformat": 4,
 "nbformat_minor": 5
}
