{
 "cells": [
  {
   "cell_type": "markdown",
   "id": "533cf7f1",
   "metadata": {},
   "source": [
    "# programming_assignment_13"
   ]
  },
  {
   "cell_type": "code",
   "execution_count": 41,
   "id": "11de4781",
   "metadata": {},
   "outputs": [
    {
     "name": "stdout",
     "output_type": "stream",
     "text": [
      "100,150,180\n",
      "18,22,24\n"
     ]
    }
   ],
   "source": [
    "\"\"\"\n",
    "Question 1:\n",
    "\n",
    "Write a program that calculates and prints the value according to the given formula:\n",
    "\n",
    "Q = Square root of [(2 * C * D)/H]\n",
    "\n",
    "Following are the fixed values of C and H:\n",
    "\n",
    "C is 50. H is 30.\n",
    "\n",
    "D is the variable whose values should be input to your program in a comma-separated sequence.\n",
    "\n",
    "Example\n",
    "\n",
    "Let us assume the following comma separated input sequence is given to the program:\n",
    "\n",
    "100,150,180\n",
    "\n",
    "The output of the program should be:\n",
    "\n",
    "18,22,24\n",
    "\n",
    "\"\"\"\n",
    "import math\n",
    "def square_root(D):\n",
    "    lst_of_numbers = D.split(\",\")\n",
    "    lst_result =[]\n",
    "    for i in lst_of_numbers:\n",
    "        q =int( math.sqrt((2*50*int(i))/30))\n",
    "        lst_result.append(q)\n",
    "    return lst_result\n",
    "\"\"\"Driver Code\"\"\"\n",
    "n = input(\"\")\n",
    "output = square_root(n)\n",
    "for i in range(len(output)):\n",
    "    if(i<len(output)-1):\n",
    "        print(output[i],end=',')\n",
    "    else:\n",
    "        print(output[i])\n"
   ]
  },
  {
   "cell_type": "code",
   "execution_count": 42,
   "id": "57bcc3e9",
   "metadata": {},
   "outputs": [
    {
     "name": "stdout",
     "output_type": "stream",
     "text": [
      "3,5\n",
      "[[0, 0, 0, 0, 0], [0, 1, 2, 3, 4], [0, 2, 4, 6, 8]]\n"
     ]
    }
   ],
   "source": [
    "\"\"\"\n",
    "Question 2:\n",
    "Write a program which takes 2 digits, X,Y as input and generates a 2-dimensional array. The element value in the i-th row and j-th column of the array should be i*j.\n",
    "\n",
    "Note: i=0,1.., X-1; j=0,1,¡¬Y-1.\n",
    "\n",
    "Example\n",
    "\n",
    "Suppose the following inputs are given to the program:\n",
    "\n",
    "3,5\n",
    "\n",
    "Then, the output of the program should be:\n",
    "\n",
    "[[0, 0, 0, 0, 0], [0, 1, 2, 3, 4], [0, 2, 4, 6, 8]] \n",
    "\n",
    "\"\"\"\n",
    "import math\n",
    "def print_2d_array(s):\n",
    "    lst = s.split(\",\")\n",
    "    lst_row=[]\n",
    "    lst_column=[]\n",
    "    for i in range(int(lst[0])):\n",
    "        for j in range(int(lst[1])):\n",
    "            x = i*j\n",
    "            lst_column.insert(j,x)       \n",
    "    lst_row = [lst_column[x:x+5] for x in range(0, len(lst_column),5)]\n",
    "    return lst_row[::-1]\n",
    "\"\"\"Driver Code\"\"\"\n",
    "n = input(\"\")\n",
    "output = print_2d_array(n)\n",
    "print(output)"
   ]
  },
  {
   "cell_type": "code",
   "execution_count": 43,
   "id": "a5a0c542",
   "metadata": {},
   "outputs": [
    {
     "name": "stdout",
     "output_type": "stream",
     "text": [
      "without,hello,bag,world\n",
      "bag,hello,without,world\n"
     ]
    }
   ],
   "source": [
    "\"\"\"\n",
    "Question 3:\n",
    "Write a program that accepts a comma separated sequence of words as input and prints the\n",
    "words in a comma-separated sequence after sorting them alphabetically.\n",
    "Suppose the following input is supplied to the program:\n",
    "without,hello,bag,world\n",
    "Then, the output should be:\n",
    "bag,hello,without,world\n",
    "\"\"\"\n",
    "def sort_words(s):\n",
    "    lst_words = s.split(\",\")\n",
    "    lst_words.sort()\n",
    "    return lst_words\n",
    "\"\"\"Driver Code\"\"\"\n",
    "n = input(\"\")\n",
    "output = sort_words(n)\n",
    "for i in range(len(output)):\n",
    "    if(i<len(output)-1):\n",
    "        print(output[i],end=',')\n",
    "    else:\n",
    "        print(output[i])"
   ]
  },
  {
   "cell_type": "code",
   "execution_count": 44,
   "id": "f739d4ef",
   "metadata": {},
   "outputs": [
    {
     "name": "stdout",
     "output_type": "stream",
     "text": [
      "hello world and practice makes perfect and hello world again\n",
      "again and hello makes perfect practice world "
     ]
    }
   ],
   "source": [
    "\"\"\"\n",
    "Question 4:\n",
    "Write a program that accepts a sequence of whitespace separated words as input and prints\n",
    "the words after removing all duplicate words and sorting them alphanumerically.\n",
    "Suppose the following input is supplied to the program:\n",
    "hello world and practice makes perfect and hello world again\n",
    "Then, the output should be:\n",
    "again and hello makes perfect practice world\n",
    "\n",
    "\"\"\"\n",
    "def get_string(s):\n",
    "    lst_of_words = s.split(\" \")\n",
    "    sorted_lst = sorted(lst_of_words)\n",
    "    lst_final = []\n",
    "    for i in sorted_lst:\n",
    "        if i not in lst_final:\n",
    "            lst_final.append(i)\n",
    "    return lst_final\n",
    "\"\"\"Driver Code\"\"\"\n",
    "n = input(\"\")\n",
    "output = get_string(n)\n",
    "for i in output:\n",
    "    print(i,end=\" \")"
   ]
  },
  {
   "cell_type": "code",
   "execution_count": 45,
   "id": "6185e20b",
   "metadata": {},
   "outputs": [
    {
     "name": "stdout",
     "output_type": "stream",
     "text": [
      "hello world! 123\n",
      "LETTERS  10\n",
      "\n",
      "DIGITS  3\n"
     ]
    }
   ],
   "source": [
    "\"\"\"\n",
    "Question 5:\n",
    "Write a program that accepts a sentence and calculate the number of letters and digits.\n",
    "Suppose the following input is supplied to the program:\n",
    "hello world! 123\n",
    "Then, the output should be:\n",
    "LETTERS 10\n",
    "\n",
    "DIGITS 3\n",
    "\"\"\"\n",
    "import re\n",
    "def cal_letter_number(s):\n",
    "    lst = re.split('\"^\\s\",|_|-|!|\\+', s)\n",
    "    number = ''\n",
    "    letter = ''\n",
    "    for i in range(len(lst)):\n",
    "        for j in lst[i]:\n",
    "            if j.isdigit():\n",
    "                number = number +j\n",
    "            elif j.isalpha():\n",
    "                letter = letter +j\n",
    "    return number,letter\n",
    "\"\"\"Driver Code\"\"\"\n",
    "n = input('')\n",
    "output1,output2= cal_letter_number(n)\n",
    "print('LETTERS ',len(output2),end=\"\\n\\n\")\n",
    "print('DIGITS ',len(output1))"
   ]
  },
  {
   "cell_type": "code",
   "execution_count": 46,
   "id": "d66254ac",
   "metadata": {},
   "outputs": [
    {
     "name": "stdout",
     "output_type": "stream",
     "text": [
      "ABd1234@1,a F1#,2w3E*,2We3345\n",
      "ABd1234@1\n"
     ]
    }
   ],
   "source": [
    "\"\"\"\n",
    "Question 6:\n",
    "A website requires the users to input username and password to register. Write a program to\n",
    "check the validity of password input by users.\n",
    "Following are the criteria for checking the password:\n",
    "1. At least 1 letter between [a-z]\n",
    "2. At least 1 number between [0-9]\n",
    "1. At least 1 letter between [A-Z]\n",
    "3. At least 1 character from [$#@]\n",
    "4. Minimum length of transaction password: 6\n",
    "5. Maximum length of transaction password: 12\n",
    "Your program should accept a sequence of comma separated passwords and will check them\n",
    "according to the above criteria. Passwords that match the criteria are to be printed, each\n",
    "separated by a comma.\n",
    "Example\n",
    "If the following passwords are given as input to the program:\n",
    "ABd1234@1,a F1#,2w3E*,2We3345\n",
    "Then, the output of the program should be:\n",
    "ABd1234@1\n",
    "\"\"\"\n",
    "# importing re library\n",
    "import re\n",
    "\n",
    "def check_valid_password(s):\n",
    "    lst_of_passwords = s.split(',')\n",
    "    reg = \"^(?=.*[a-z])(?=.*[A-Z])(?=.*\\d)(?=.*[@$!%*#?&])[A-Za-z\\d@$!#%*?&]{6,12}$\"\n",
    "    pat = re.compile(reg)\n",
    "    verified_passwords = ''\n",
    "    for i in lst_of_passwords:\n",
    "        if(len(i)>=6 and len(i)<12):\n",
    "            check = re.search(pat,i)\n",
    "            if check:\n",
    "                verified_passwords = verified_passwords+i\n",
    "    return verified_passwords\n",
    "\"\"\"Driver Code\"\"\"\n",
    "n = input()\n",
    "output = check_valid_password(n)\n",
    "print(output)"
   ]
  }
 ],
 "metadata": {
  "kernelspec": {
   "display_name": "Python 3 (ipykernel)",
   "language": "python",
   "name": "python3"
  },
  "language_info": {
   "codemirror_mode": {
    "name": "ipython",
    "version": 3
   },
   "file_extension": ".py",
   "mimetype": "text/x-python",
   "name": "python",
   "nbconvert_exporter": "python",
   "pygments_lexer": "ipython3",
   "version": "3.9.7"
  }
 },
 "nbformat": 4,
 "nbformat_minor": 5
}
