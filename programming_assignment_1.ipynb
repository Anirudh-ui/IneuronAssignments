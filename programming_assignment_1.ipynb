{
 "cells": [
  {
   "cell_type": "markdown",
   "id": "4f6c53a9",
   "metadata": {},
   "source": [
    "# Programming_Assignment1"
   ]
  },
  {
   "cell_type": "code",
   "execution_count": 8,
   "id": "0a213a82",
   "metadata": {},
   "outputs": [
    {
     "name": "stdout",
     "output_type": "stream",
     "text": [
      "Hello Python\n"
     ]
    }
   ],
   "source": [
    "\"\"\"1Write a program to print Hello Pyhton\"\"\"\n",
    "\n",
    "class Intro:\n",
    "    def hello(self):\n",
    "        print(\"Hello Python\")\n",
    "\"\"\"creating the class object\"\"\"\n",
    "introObject = Intro()\n",
    "introObject.hello()"
   ]
  },
  {
   "cell_type": "code",
   "execution_count": 6,
   "id": "3b9dcd5d",
   "metadata": {},
   "outputs": [
    {
     "name": "stdout",
     "output_type": "stream",
     "text": [
      "Enter the any two numbers you want to add and divide\n",
      "Enter the first value 4\n",
      "Enter the second value 2\n",
      "The addition of two numbers 4 and 2 : 6\n",
      "The division of two numbers 4 and 2 : 2.0\n"
     ]
    }
   ],
   "source": [
    "\"\"\"2Write a program to do arithmetical operations additin and division\"\"\"\n",
    "class ArithmeticOperations:\n",
    "    def __init__(self,first_value,second_value):\n",
    "        self.first_value = first_value\n",
    "        self.second_value = second_value\n",
    "    def add(self):\n",
    "        sum = self.first_value + self.second_value\n",
    "        print(\"The addition of two numbers {} and {} : {}\".format(self.first_value,self.second_value,sum))\n",
    "        \n",
    "    def divide(self):\n",
    "        division = self.first_value/self.second_value\n",
    "        print(\"The division of two numbers {} and {} : {}\".format(self.first_value,self.second_value,division))\n",
    "\"\"\"creating the object\"\"\"\n",
    "print(\"Enter the any two numbers you want to add and divide\")\n",
    "inp1 = int(input(\"Enter the first value \"))\n",
    "inp2 = int(input(\"Enter the second value \"))\n",
    "Operation1 = ArithmeticOperations(inp1,inp2)\n",
    "Operation1.add()\n",
    "Operation1.divide()\n",
    "        "
   ]
  },
  {
   "cell_type": "code",
   "execution_count": 35,
   "id": "e7a63aca",
   "metadata": {},
   "outputs": [
    {
     "name": "stdout",
     "output_type": "stream",
     "text": [
      "what are your inputs to find the area of the triangle are they  \n",
      "           length of base and height or length of sides of the triangle \n",
      "           if your inputs are length of base and height enter 2 or if your\n",
      "           inputs are lengths of the sides of triangle then enter 3\n",
      "Enter the number here :3\n",
      "Enter the length of first side :2\n",
      "Enter the length of second side :4\n",
      "Enter the length of third side: 6\n",
      "Sum of any two sides should always be greater than the other side \n",
      "            then these lengths can form a triangle\n",
      "Area of Triangle is : None\n"
     ]
    }
   ],
   "source": [
    "\"\"\"3.Write a Python program to find the area of a triangle?\"\"\"\n",
    "class area:\n",
    "    def __init__(self,*abc):\n",
    "        if len(abc)==2:\n",
    "            self.ans = self.area_of_triangle2(abc)\n",
    "        elif len(abc)==3:\n",
    "            self.ans = self.area_of_triangle3(abc)\n",
    "    #if three sides are given by the user\"\"\"        \n",
    "    def area_of_triangle3(self,args):\n",
    "        if((args[0]+args[1]>args[2]) and (args[1]+args[2]>args[0]) and (args[2]+args[0]>args[1])):\n",
    "                s = (args[0] + args[1] + args[2]) / 2  \n",
    "                area_of_triangle = (s*(s-args[0])*(s-args[1])*(s-args[2])) ** 0.5 \n",
    "                return area_of_triangle\n",
    "        else:\n",
    "            print(\"\"\"Sum of any two sides should always be greater than the other side \n",
    "            then these lengths can form a triangle\"\"\")\n",
    "    #if  base and height are given by the user\"\"\"\n",
    "    def area_of_triangle2(self,args):\n",
    "        area_of_triangle = (args[0]*args[1])*0.5\n",
    "        return area_of_triangle\n",
    "\"\"\"Driver code\"\"\"\n",
    "print(\"\"\"what are your inputs to find the area of the triangle are they  \n",
    "           length of base and height or length of sides of the triangle \n",
    "           if your inputs are length of base and height enter 2 or if your\n",
    "           inputs are lengths of the sides of triangle then enter 3\"\"\")\n",
    "\n",
    "variable = int(input(\"Enter the number here :\"))\n",
    "if variable == 2:\n",
    "    base = int(input(\"Enter the length of base : \"))\n",
    "    height = int(input(\"Enter the length of height : \"))\n",
    "    area1 = area(base,height)\n",
    "    output1 = area1.ans\n",
    "    print(\"Area of triangle is :\",output1)\n",
    "elif variable == 3:\n",
    "    first_side= int(input(\"Enter the length of first side :\"))\n",
    "    second_side = int(input(\"Enter the length of second side :\"))\n",
    "    third_side = int(input(\"Enter the length of third side: \"))\n",
    "    area2 = area(first_side,second_side,third_side)\n",
    "    output2 = area2.ans\n",
    "    print(\"Area of Triangle is :\",output2)"
   ]
  },
  {
   "cell_type": "code",
   "execution_count": 33,
   "id": "7d5b06ca",
   "metadata": {},
   "outputs": [
    {
     "name": "stdout",
     "output_type": "stream",
     "text": [
      "Enter the any two integer numbers you want to swap\n",
      "Enter the first value2\n",
      "Enter the second value4\n",
      "first_element_interchanged :  4\n",
      "second_element_interchanged :  2\n"
     ]
    }
   ],
   "source": [
    "\"\"\"4.\tWrite a Python program to swap two variables?\"\"\"\n",
    "class swap:\n",
    "    def __init__(self,first_value,second_value):\n",
    "        self.first_value = first_value\n",
    "        self.second_value = second_value\n",
    "    def swapTwo(self):\n",
    "        first_value  = self.second_value\n",
    "        second_value = self.first_value\n",
    "        list_of_interchanged = []\n",
    "        list_of_interchanged.append(first_value)\n",
    "        list_of_interchanged.append(second_value)\n",
    "        return list_of_interchanged\n",
    "        \n",
    "\"\"\"Driver Code\"\"\"\n",
    "print(\"Enter the any two integer numbers you want to swap\")\n",
    "first_value = int(input(\"Enter the first value\"))\n",
    "second_value = int(input(\"Enter the second value\"))\n",
    "swap_class = swap(first_value,second_value)\n",
    "output = swap_class.swapTwo()\n",
    "print(\"first_element_interchanged : \",output[0])\n",
    "print(\"second_element_interchanged : \",output[1])"
   ]
  },
  {
   "cell_type": "code",
   "execution_count": 46,
   "id": "793a87d3",
   "metadata": {},
   "outputs": [
    {
     "name": "stdout",
     "output_type": "stream",
     "text": [
      "The generated random number is :  0.043555616558864085\n"
     ]
    }
   ],
   "source": [
    "\"\"\"Pyhton program to generate a random number\"\"\"\n",
    "import random\n",
    "n = random.random()\n",
    "print(\"The generated random number is : \",n)"
   ]
  },
  {
   "cell_type": "code",
   "execution_count": null,
   "id": "21b5eda0",
   "metadata": {},
   "outputs": [],
   "source": []
  }
 ],
 "metadata": {
  "kernelspec": {
   "display_name": "Python 3 (ipykernel)",
   "language": "python",
   "name": "python3"
  },
  "language_info": {
   "codemirror_mode": {
    "name": "ipython",
    "version": 3
   },
   "file_extension": ".py",
   "mimetype": "text/x-python",
   "name": "python",
   "nbconvert_exporter": "python",
   "pygments_lexer": "ipython3",
   "version": "3.9.7"
  }
 },
 "nbformat": 4,
 "nbformat_minor": 5
}
